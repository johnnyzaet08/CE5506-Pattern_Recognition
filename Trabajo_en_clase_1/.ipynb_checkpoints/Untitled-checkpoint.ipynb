{
 "cells": [
  {
   "cell_type": "markdown",
   "id": "4d99f738",
   "metadata": {
    "id": "4d99f738"
   },
   "source": [
    "## <div style=\"text-align: center\"> Área académica de Ingeniería en Computadores </div> \n",
    "\n",
    "## <div style=\"text-align: center\"> CE - 5506 Introducción al Reconocimiento de Patrones </div>\n",
    "\n",
    "## <div style=\"text-align: center\"> Trabajo en clase #1 </div>\n",
    "\n",
    "## <div style=\"text-align: left\"> Estudiantes: </div> <br> <div style=\"text-align:center\"> Cambronero Ureña Aldo - 2018099813 <br> Agüero Sandí Johnny - 2020027766 </div>\n",
    "    \n",
    "## <div style=\"text-align: left\"> Profesor: </div> <br> <div style=\"text-align: center\"> Jason Leiton Jimenez <br><br> </div>\n",
    "\n",
    "## <div style=\"text-align: center\"> Grupo 1 </div>\n",
    "\n",
    "## <div style=\"text-align: center\"> IS $-$ 2023 </div>"
   ]
  },
  {
   "cell_type": "markdown",
   "id": "35624a66",
   "metadata": {},
   "source": [
    "---"
   ]
  },
  {
   "cell_type": "markdown",
   "id": "007b2894",
   "metadata": {
    "id": "007b2894"
   },
   "source": [
    "## <div style=\"text-align: center\"> Teoría </div> "
   ]
  },
  {
   "cell_type": "markdown",
   "id": "ce920ed0",
   "metadata": {
    "id": "ce920ed0"
   },
   "source": [
    "### a) Indique cual es costo de “Training” y de test del algoritmo KNN."
   ]
  },
  {
   "cell_type": "markdown",
   "id": "sFCtUDfMO4AZ",
   "metadata": {
    "id": "sFCtUDfMO4AZ"
   },
   "source": []
  },
  {
   "cell_type": "markdown",
   "id": "75563fea",
   "metadata": {
    "id": "75563fea"
   },
   "source": [
    "### b) Explique porqué se dice que instance learning es un algoritmo por fuerza bruta o perezoso."
   ]
  },
  {
   "cell_type": "markdown",
   "id": "l5tq52QnOvuy",
   "metadata": {
    "id": "l5tq52QnOvuy"
   },
   "source": [
    "Se considera un algoritmo perezoso o por fuerza bruta, porque no intenta aprender una función que pueda generalizar a partir de los datos de entrenamiento. En cambio, simplemente almacena todos los ejemplos de entrenamiento y luego los compara con el objeto nuevo con los anteriores para clasificarlo. "
   ]
  },
  {
   "cell_type": "markdown",
   "id": "7cbd3f58",
   "metadata": {
    "id": "7cbd3f58"
   },
   "source": [
    "### c) Indique cuántas comparaciones se deben realizar en la etapa de testeo (asumiendo el peor de los casos)."
   ]
  },
  {
   "cell_type": "markdown",
   "id": "oKiczLudO6dQ",
   "metadata": {
    "id": "oKiczLudO6dQ"
   },
   "source": [
    "Durante la etapa de testeo se deben de realizar comparaciones entre los datos de prueba y los de entrenamiento  para determinar a qué clase pertenece el objeto de prueba; por ende, si hay “n” datos de entrenamiento, hay que hacer “n” comparaciones."
   ]
  },
  {
   "cell_type": "markdown",
   "id": "f3ce9ee9",
   "metadata": {
    "id": "f3ce9ee9"
   },
   "source": [
    "### d) Investigue alguna modificación que se ha realizado al algoritmo original del KNN."
   ]
  },
  {
   "cell_type": "markdown",
   "id": "VE1BYeeEO86S",
   "metadata": {
    "id": "VE1BYeeEO86S"
   },
   "source": [
    "Se puede mencionar el KNN ponderado por distancia, esta variante del KNN asigna un peso a cada vecino cercano según su distancia al objeto de prueba. Los vecinos más cercanos reciben un mayor peso en la clasificación del objeto de prueba. Esta modificación ayuda a evitar la influencia de vecinos ruidosos o atípicos en la clasificación."
   ]
  },
  {
   "cell_type": "markdown",
   "id": "689aa556",
   "metadata": {},
   "source": [
    "---"
   ]
  },
  {
   "cell_type": "markdown",
   "id": "mqmzKRw9PrMJ",
   "metadata": {
    "id": "mqmzKRw9PrMJ"
   },
   "source": [
    "## <div style=\"text-align: center\"> Realizando un clasificador de múltiples clases </div> "
   ]
  },
  {
   "cell_type": "code",
   "execution_count": 1,
   "id": "9MOBHSymWzCS",
   "metadata": {
    "id": "9MOBHSymWzCS"
   },
   "outputs": [],
   "source": [
    "import numpy as np\n",
    "\n",
    "class KNearestNeighbors():\n",
    "    def __init__(self, X_train, y_train, n_neighbors=5, weights='uniform'):\n",
    "\n",
    "        self.X_train = X_train\n",
    "        self.y_train = y_train\n",
    "\n",
    "        self.n_neighbors = n_neighbors\n",
    "        self.weights = weights\n",
    "\n",
    "        self.n_classes = 3\n",
    "\n",
    "    def euclidian_distance(self, a, b):\n",
    "        return np.sqrt(np.sum((a - b)**2, axis=1))\n",
    "\n",
    "    def kneighbors(self, X_test, return_distance=False):\n",
    "\n",
    "        dist = []\n",
    "        neigh_ind = []\n",
    "\n",
    "#         print(X_test, self.X_train. X_test, self.X_train)\n",
    "        point_dist = []\n",
    "        for x_test in X_test:\n",
    "            point_dist += [ self.euclidian_distance(x_test, self.X_train) ]\n",
    "\n",
    "        for row in point_dist:\n",
    "            enum_neigh = enumerate(row)\n",
    "            sorted_neigh = sorted(enum_neigh,\n",
    "                                  key=lambda x: x[1])[:self.n_neighbors]\n",
    "\n",
    "            ind_list = [tup[0] for tup in sorted_neigh]\n",
    "            dist_list = [tup[1] for tup in sorted_neigh]\n",
    "\n",
    "            dist.append(dist_list)\n",
    "            neigh_ind.append(ind_list)\n",
    "\n",
    "        if return_distance:\n",
    "            return np.array(dist), np.array(neigh_ind)\n",
    "\n",
    "        return np.array(neigh_ind)\n",
    "\n",
    "    def predict(self, X_test):\n",
    "\n",
    "        if self.weights == 'uniform':\n",
    "            neighbors = self.kneighbors(X_test)\n",
    "            y_pred = np.array([\n",
    "                np.argmax(np.bincount(self.y_train[neighbor]))\n",
    "                for neighbor in neighbors\n",
    "            ])\n",
    "            #print(\"Y_pred: \", y_pred)\n",
    "            return y_pred\n",
    "\n",
    "        if self.weights == 'distance':\n",
    "\n",
    "            print(\"Realice una implementación de distancia\")\n",
    "\n",
    "            return y_pred\n",
    "\n",
    "    def score(self, X_test, y_test):\n",
    "        y_pred = self.predict(X_test)\n",
    "        return float(sum(y_pred == y_test)) / float(len(y_test)), y_pred, y_test"
   ]
  },
  {
   "cell_type": "markdown",
   "id": "xmMKQK2TQSWq",
   "metadata": {
    "id": "xmMKQK2TQSWq"
   },
   "source": [
    "### 2.1. Distancia entre elementos"
   ]
  },
  {
   "cell_type": "markdown",
   "id": "xsGxEY5ARwi0",
   "metadata": {
    "id": "xsGxEY5ARwi0"
   },
   "source": [
    "#### a) implementar un criterio de cómo elegir la clase de una muestra tomando en cuenta los k vecinos más cercanos."
   ]
  },
  {
   "cell_type": "markdown",
   "id": "CPyptwKhRwu5",
   "metadata": {
    "id": "CPyptwKhRwu5"
   },
   "source": [
    "```\n",
    "if self.weights == 'distance':\n",
    "  neighbords = self.kneighbors(X_test, return_distance=True)\n",
    "  distances = neighbords[0]\n",
    "  indices = neighbords[1]\n",
    "  y_pred = np.zeros(X_test.shape[0], dtype=int)\n",
    "  for in range(x_test.shape[0]):\n",
    "    weights = 1 / (distances[i] + 1e-6) #Agregar un pequeño valor constante para envitar la división por cero\n",
    "    y_pred[i] = np.argmax(np.bincount(self.y_train[indices[i]], weights))\n",
    "  return y_pred\n",
    "```"
   ]
  },
  {
   "cell_type": "markdown",
   "id": "XMduuQe4UJoJ",
   "metadata": {
    "id": "XMduuQe4UJoJ"
   },
   "source": [
    "#### b) Pruebe el algoritmo del punto anterior con k=2,3,4,5,6,7,9,11. Anote la precisión y el tiempo que se obtuvo para cada k. Además, compare los resultados obtenidos de su implementación con los de la biblioteca sklearn."
   ]
  },
  {
   "cell_type": "code",
   "execution_count": null,
   "id": "ZGQHXuZnU9-8",
   "metadata": {
    "id": "ZGQHXuZnU9-8"
   },
   "outputs": [],
   "source": []
  },
  {
   "cell_type": "markdown",
   "id": "4tR2hPyYRwz5",
   "metadata": {
    "id": "4tR2hPyYRwz5"
   },
   "source": [
    "#### c) Realice una gráfica de k vr precisión, de tal manera que le permita discutir los resultados obtenidos."
   ]
  },
  {
   "cell_type": "code",
   "execution_count": null,
   "id": "A4Lk3E1PU-LM",
   "metadata": {
    "id": "A4Lk3E1PU-LM"
   },
   "outputs": [],
   "source": []
  },
  {
   "cell_type": "markdown",
   "id": "UFKo8SCZQTDZ",
   "metadata": {
    "id": "UFKo8SCZQTDZ"
   },
   "source": [
    "### 2.2. Clasificador de múltiples clase"
   ]
  },
  {
   "cell_type": "markdown",
   "id": "PRf17FrdRhEq",
   "metadata": {
    "id": "PRf17FrdRhEq"
   },
   "source": [
    "#### a) Cargue el set datos MNIST (dígitos), utilizando la biblioteca sklearn MNIST. En el listing 1 se muestra cómo hacerlo."
   ]
  },
  {
   "cell_type": "code",
   "execution_count": 2,
   "id": "2fd714bf",
   "metadata": {
    "id": "ucLp_90CVxbV"
   },
   "outputs": [],
   "source": [
    "    # Listing 1: Cargar el Set de Datos\n",
    "    \n",
    "from sklearn.datasets import load_digits\n",
    "\n",
    "digits = load_digits (n_class = 10)"
   ]
  },
  {
   "cell_type": "markdown",
   "id": "cOKi2xPPRv2u",
   "metadata": {
    "id": "cOKi2xPPRv2u"
   },
   "source": [
    "#### b) Muestre las primeras 12 imágenes en forma de tabla (3x4). Se debe de observar la imagen del dígito."
   ]
  },
  {
   "cell_type": "code",
   "execution_count": 32,
   "id": "gADkdEvMVxnQ",
   "metadata": {
    "id": "gADkdEvMVxnQ"
   },
   "outputs": [
    {
     "data": {
      "image/png": "[encoded data removed]",
      "text/plain": [
       "<Figure size 640x480 with 12 Axes>"
      ]
     },
     "metadata": {},
     "output_type": "display_data"
    }
   ],
   "source": [
    "import matplotlib.pyplot as plt\n",
    "import numpy as np\n",
    "\n",
    "images = np.zeros((12, 8, 8, 1)) # array of 12 images with 8x8 pixels and 1 chanel for colors\n",
    "\n",
    "fig, axs = plt.subplots(3, 4)\n",
    "\n",
    "plt.gray()\n",
    "\n",
    "                   \n",
    "for i in range(12):\n",
    "    axs.flat[i].imshow(digits.images[i])\n",
    "    axs.flat[i].set_title(f'Imagen {i+1}')\n",
    "    axs.flat[i].set_xticks([])\n",
    "    axs.flat[i].set_yticks([])\n",
    "\n",
    "plt.show()"
   ]
  },
  {
   "cell_type": "markdown",
   "id": "Sb0L3Ey9RwBI",
   "metadata": {
    "id": "Sb0L3Ey9RwBI"
   },
   "source": [
    "#### c) Muestre las dimensiones del set datos (cuántos datos y cuántos features)."
   ]
  },
  {
   "cell_type": "code",
   "execution_count": 43,
   "id": "DhE9qLCLVx0Q",
   "metadata": {
    "id": "DhE9qLCLVx0Q"
   },
   "outputs": [
    {
     "name": "stdout",
     "output_type": "stream",
     "text": [
      "Data:  64\n",
      "Features:  1797\n"
     ]
    }
   ],
   "source": [
    "shape = digits.data.shape\n",
    "print(\"Data: \", shape[1])\n",
    "print(\"Features: \", shape[0])"
   ]
  },
  {
   "cell_type": "markdown",
   "id": "GK48hLKjRwPF",
   "metadata": {
    "id": "GK48hLKjRwPF"
   },
   "source": [
    "#### d) Separe el set de datos de tal manera que el 75 % de los datos sea para entrenamiento, mientras que el 25 % sea para el test."
   ]
  },
  {
   "cell_type": "code",
   "execution_count": 42,
   "id": "eAQ2AcmsVyDe",
   "metadata": {
    "id": "eAQ2AcmsVyDe"
   },
   "outputs": [
    {
     "name": "stdout",
     "output_type": "stream",
     "text": [
      "Shape of training data:  (1348, 64)\n",
      "Shape of test data:  (449, 64)\n",
      "Amount of training data:  1348\n",
      "Amount of test data:  449\n"
     ]
    }
   ],
   "source": [
    "training_amount = round(shape[0] * 0.75)\n",
    "test_amount = shape[0] - training_amount\n",
    "\n",
    "training_data = []\n",
    "test_data = []\n",
    "\n",
    "if(training_amount + test_amount == shape[0]):\n",
    "    training_data = digits.data[:training_amount,:]\n",
    "    test_data = digits.data[training_amount:shape[0], :]\n",
    "    print(\"Shape of training data: \", training_data.shape)\n",
    "    print(\"Shape of test data: \", test_data.shape)\n",
    "    print(\"Amount of training data: \", training_amount)\n",
    "    print(\"Amount of test data: \", test_amount)"
   ]
  },
  {
   "cell_type": "markdown",
   "id": "uokNxD6mU45F",
   "metadata": {
    "id": "uokNxD6mU45F"
   },
   "source": [
    "#### e) Instancie su propia implementación de KNN y pruebe el clasificador (k=2,3,5,7,8,10,11) con el set datos solicitados (note que son 10 clases). Muestre la precisión con el método normal y con el método de distancia implementado por cada grupo.\n"
   ]
  },
  {
   "cell_type": "code",
   "execution_count": null,
   "id": "XUcZ4rIHVyO9",
   "metadata": {
    "id": "XUcZ4rIHVyO9"
   },
   "outputs": [],
   "source": []
  },
  {
   "cell_type": "markdown",
   "id": "aHw_6sw2U4-X",
   "metadata": {
    "id": "aHw_6sw2U4-X"
   },
   "source": [
    "#### f) Instancie el clasificador de sklearn y realice las mismas pruebas que el punto anterior."
   ]
  },
  {
   "cell_type": "code",
   "execution_count": null,
   "id": "RV15Hn3QVyfi",
   "metadata": {
    "id": "RV15Hn3QVyfi"
   },
   "outputs": [],
   "source": []
  },
  {
   "cell_type": "markdown",
   "id": "yEaX2IJQU7Uo",
   "metadata": {
    "id": "yEaX2IJQU7Uo"
   },
   "source": [
    "#### g) Compare en una tabla la implementación propia del knn con el de la biblioteca sklearn"
   ]
  },
  {
   "cell_type": "code",
   "execution_count": null,
   "id": "Mu53v3_8VywG",
   "metadata": {
    "id": "Mu53v3_8VywG"
   },
   "outputs": [],
   "source": []
  },
  {
   "cell_type": "markdown",
   "id": "LCFvUJnwU7bS",
   "metadata": {
    "id": "LCFvUJnwU7bS"
   },
   "source": [
    "#### h) Realice 5 imágenes con dígitos escrito a mano. Saque una foto a cada dígito y transforme la imagen a las mismas dimensiones que el set de datos. Pruebe su modelo prediciendo cada una de las fotos tomadas. Reporte la clasificación que brinda el modelo mostrando el la imagen original y la clasificación obtenida."
   ]
  },
  {
   "cell_type": "code",
   "execution_count": null,
   "id": "RqF8MsOgVs7h",
   "metadata": {
    "id": "RqF8MsOgVs7h"
   },
   "outputs": [],
   "source": []
  }
 ],
 "metadata": {
  "colab": {
   "provenance": []
  },
  "kernelspec": {
   "display_name": "Python 3 (ipykernel)",
   "language": "python",
   "name": "python3"
  },
  "language_info": {
   "codemirror_mode": {
    "name": "ipython",
    "version": 3
   },
   "file_extension": ".py",
   "mimetype": "text/x-python",
   "name": "python",
   "nbconvert_exporter": "python",
   "pygments_lexer": "ipython3",
   "version": "3.11.2"
  }
 },
 "nbformat": 4,
 "nbformat_minor": 5
}
