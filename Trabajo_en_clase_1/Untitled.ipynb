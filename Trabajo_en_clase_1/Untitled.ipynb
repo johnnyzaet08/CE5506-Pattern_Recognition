{
 "cells": [
  {
   "cell_type": "markdown",
   "id": "4d99f738",
   "metadata": {
    "id": "4d99f738"
   },
   "source": [
    "## <div style=\"text-align: center\"> Área académica de Ingeniería en Computadores </div> \n",
    "\n",
    "## <div style=\"text-align: center\"> CE - 5506 Introducción al Reconocimiento de Patrones </div>\n",
    "\n",
    "## <div style=\"text-align: center\"> Trabajo en clase #1 </div>\n",
    "\n",
    "## <div style=\"text-align: left\"> Estudiantes: </div> <br> <div style=\"text-align:center\"> Cambronero Ureña Aldo - 2018099813 <br> Agüero Sandí Johnny - 2020027766 </div>\n",
    "    \n",
    "## <div style=\"text-align: left\"> Profesor: </div> <br> <div style=\"text-align: center\"> Jason Leiton Jimenez <br><br> </div>\n",
    "\n",
    "## <div style=\"text-align: center\"> Grupo 1 </div>\n",
    "\n",
    "## <div style=\"text-align: center\"> IS $-$ 2023 </div>"
   ]
  },
  {
   "cell_type": "markdown",
   "id": "35624a66",
   "metadata": {},
   "source": [
    "---"
   ]
  },
  {
   "cell_type": "markdown",
   "id": "007b2894",
   "metadata": {
    "id": "007b2894"
   },
   "source": [
    "## <div style=\"text-align: center\"> Teoría </div> "
   ]
  },
  {
   "cell_type": "markdown",
   "id": "ce920ed0",
   "metadata": {
    "id": "ce920ed0"
   },
   "source": [
    "### a) Indique cual es costo de “Training” y de test del algoritmo KNN."
   ]
  },
  {
   "cell_type": "markdown",
   "id": "sFCtUDfMO4AZ",
   "metadata": {
    "id": "sFCtUDfMO4AZ"
   },
   "source": [
    "El costo computacional del algoritmo KNN implementado depende principalmente del tamaño del conjunto de prueba X_test y el número de vecinos k seleccionado.\n",
    "\n",
    "El costo computacional total del método kneighbors() es O(n * m * (d + log(m))), lo que puede ser prohibitivo para conjuntos de datos muy grandes. El costo computacional del método predict() depende del número de puntos en X_test y el número de vecinos k, lo que implica un costo computacional adicional de O(n * k * log(k))."
   ]
  },
  {
   "cell_type": "markdown",
   "id": "75563fea",
   "metadata": {
    "id": "75563fea"
   },
   "source": [
    "### b) Explique porqué se dice que instance learning es un algoritmo por fuerza bruta o perezoso."
   ]
  },
  {
   "cell_type": "markdown",
   "id": "l5tq52QnOvuy",
   "metadata": {
    "id": "l5tq52QnOvuy"
   },
   "source": [
    "Se considera un algoritmo perezoso o por fuerza bruta, porque no intenta aprender una función que pueda generalizar a partir de los datos de entrenamiento. En cambio, simplemente almacena todos los ejemplos de entrenamiento y luego los compara con el objeto nuevo con los anteriores para clasificarlo. "
   ]
  },
  {
   "cell_type": "markdown",
   "id": "7cbd3f58",
   "metadata": {
    "id": "7cbd3f58"
   },
   "source": [
    "### c) Indique cuántas comparaciones se deben realizar en la etapa de testeo (asumiendo el peor de los casos)."
   ]
  },
  {
   "cell_type": "markdown",
   "id": "oKiczLudO6dQ",
   "metadata": {
    "id": "oKiczLudO6dQ"
   },
   "source": [
    "Durante la etapa de testeo se deben de realizar comparaciones entre los datos de prueba y los de entrenamiento  para determinar a qué clase pertenece el objeto de prueba; por ende, si hay “n” datos de entrenamiento, hay que hacer “n” comparaciones."
   ]
  },
  {
   "cell_type": "markdown",
   "id": "f3ce9ee9",
   "metadata": {
    "id": "f3ce9ee9"
   },
   "source": [
    "### d) Investigue alguna modificación que se ha realizado al algoritmo original del KNN."
   ]
  },
  {
   "cell_type": "markdown",
   "id": "VE1BYeeEO86S",
   "metadata": {
    "id": "VE1BYeeEO86S"
   },
   "source": [
    "Se puede mencionar el KNN ponderado por distancia, esta variante del KNN asigna un peso a cada vecino cercano según su distancia al objeto de prueba. Los vecinos más cercanos reciben un mayor peso en la clasificación del objeto de prueba. Esta modificación ayuda a evitar la influencia de vecinos ruidosos o atípicos en la clasificación."
   ]
  },
  {
   "cell_type": "markdown",
   "id": "689aa556",
   "metadata": {},
   "source": [
    "---"
   ]
  },
  {
   "cell_type": "markdown",
   "id": "mqmzKRw9PrMJ",
   "metadata": {
    "id": "mqmzKRw9PrMJ"
   },
   "source": [
    "## <div style=\"text-align: center\"> Realizando un clasificador de múltiples clases </div> "
   ]
  },
  {
   "cell_type": "code",
   "execution_count": 1,
   "id": "9MOBHSymWzCS",
   "metadata": {
    "id": "9MOBHSymWzCS"
   },
   "outputs": [],
   "source": [
    "import numpy as np\n",
    "\n",
    "class KNearestNeighbors():\n",
    "    def __init__(self, X_train, y_train, n_neighbors=5, weights='uniform', n_classes=3):\n",
    "\n",
    "        self.X_train = X_train\n",
    "        self.y_train = y_train\n",
    "\n",
    "        self.n_neighbors = n_neighbors\n",
    "        self.weights = weights\n",
    "\n",
    "        self.n_classes = 3\n",
    "\n",
    "    def euclidian_distance(self, a, b):\n",
    "        return np.sqrt(np.sum((a - b)**2, axis=1))\n",
    "\n",
    "    def kneighbors(self, X_test, return_distance=False):\n",
    "\n",
    "        dist = []\n",
    "        neigh_ind = []\n",
    "\n",
    "#         print(X_test, self.X_train. X_test, self.X_train)\n",
    "        point_dist = []\n",
    "        for x_test in X_test:\n",
    "            point_dist += [ self.euclidian_distance(x_test, self.X_train) ]\n",
    "\n",
    "        for row in point_dist:\n",
    "            enum_neigh = enumerate(row)\n",
    "            sorted_neigh = sorted(enum_neigh,\n",
    "                                  key=lambda x: x[1])[:self.n_neighbors]\n",
    "\n",
    "            ind_list = [tup[0] for tup in sorted_neigh]\n",
    "            dist_list = [tup[1] for tup in sorted_neigh]\n",
    "\n",
    "            dist.append(dist_list)\n",
    "            neigh_ind.append(ind_list)\n",
    "\n",
    "        if return_distance:\n",
    "            return np.array(dist), np.array(neigh_ind)\n",
    "\n",
    "        return np.array(neigh_ind)\n",
    "\n",
    "    def predict(self, X_test):\n",
    "\n",
    "        if self.weights == 'uniform':\n",
    "            neighbors = self.kneighbors(X_test)\n",
    "            y_pred = np.array([\n",
    "                np.argmax(np.bincount(self.y_train[neighbor]))\n",
    "                for neighbor in neighbors\n",
    "            ])\n",
    "            #print(\"Y_pred: \", y_pred)\n",
    "            return y_pred\n",
    "\n",
    "        if self.weights == 'distance':\n",
    "\n",
    "            # Encontrar el indice y distancia de cada vecino para cada punto\n",
    "            dist, neighbors = self.kneighbors(X_test, return_distance=True)\n",
    "            \n",
    "            # Array de la prediccion\n",
    "            y_pred = np.zeros(X_test.shape[0], dtype=int)\n",
    "            \n",
    "            # para cada valor de prueba\n",
    "            for i, neighbor_indices in enumerate(neighbors):\n",
    "                # El inverso de la distancia es el peso\n",
    "                weights = 1.0 / (dist[i] + 1e-6) #se suma 1e-6 para evitar div/0\n",
    "                \n",
    "                # Obtenemos el label del vecino\n",
    "                neighbor_labels = self.y_train[neighbor_indices]\n",
    "                \n",
    "                # Calculamos el peso por cada label\n",
    "                class_scores = np.bincount(neighbor_labels, weights=weights, minlength=self.n_classes)\n",
    "                \n",
    "                # Elegimos el label con el mayor peso\n",
    "                y_pred[i] = np.argmax(class_scores)\n",
    "                \n",
    "            return y_pred\n",
    "\n",
    "    def score(self, X_test, y_test, weights):\n",
    "        self.weights = weights\n",
    "        y_pred = self.predict(X_test)\n",
    "\n",
    "        return float(sum(y_pred == y_test)) / float(len(y_test)), y_pred, y_test"
   ]
  },
  {
   "cell_type": "markdown",
   "id": "xmMKQK2TQSWq",
   "metadata": {
    "id": "xmMKQK2TQSWq"
   },
   "source": [
    "### 2.1. Distancia entre elementos"
   ]
  },
  {
   "cell_type": "markdown",
   "id": "xsGxEY5ARwi0",
   "metadata": {
    "id": "xsGxEY5ARwi0"
   },
   "source": [
    "#### a) implementar un criterio de cómo elegir la clase de una muestra tomando en cuenta los k vecinos más cercanos."
   ]
  },
  {
   "cell_type": "markdown",
   "id": "CPyptwKhRwu5",
   "metadata": {
    "id": "CPyptwKhRwu5"
   },
   "source": [
    "```\n",
    "if self.weights == 'distance':\n",
    "            # Encontrar el indice y distancia de cada vecino para cada punto\n",
    "            dist, neighbors = self.kneighbors(X_test, return_distance=True)\n",
    "            \n",
    "            # Array de la prediccion\n",
    "            y_pred = np.zeros(X_test.shape[0], dtype=int)\n",
    "            \n",
    "            # para cada valor de prueba\n",
    "            for i, neighbor_indices in enumerate(neighbors):\n",
    "                # El inverso de la distancia es el peso\n",
    "                weights = 1.0 / (dist[i] + 1e-6) #se suma 1e-6 para evitar div/0\n",
    "                \n",
    "                # Obtenemos el label del vecino\n",
    "                neighbor_labels = self.y_train[neighbor_indices]\n",
    "                \n",
    "                # Calculamos el peso por cada label\n",
    "                class_scores = np.bincount(neighbor_labels, weights=weights, minlength=self.n_classes)\n",
    "                \n",
    "                # Elegimos el label con el mayor peso\n",
    "                y_pred[i] = np.argmax(class_scores)\n",
    "                \n",
    "            return y_pred\n",
    "```"
   ]
  },
  {
   "cell_type": "markdown",
   "id": "XMduuQe4UJoJ",
   "metadata": {
    "id": "XMduuQe4UJoJ"
   },
   "source": [
    "#### b) Pruebe el algoritmo del punto anterior con k=2,3,4,5,6,7,9,11. Anote la precisión y el tiempo que se obtuvo para cada k. Además, compare los resultados obtenidos de su implementación con los de la biblioteca sklearn."
   ]
  },
  {
   "cell_type": "code",
   "execution_count": 2,
   "id": "ZGQHXuZnU9-8",
   "metadata": {
    "id": "ZGQHXuZnU9-8"
   },
   "outputs": [
    {
     "name": "stdout",
     "output_type": "stream",
     "text": [
      "k        Precisión (%)   Sklearn (%)     Tiempo (ms)\n",
      "2        90.67           94.68           13.14     \n",
      "3        92.0            92.0            13.6      \n",
      "4        92.0            92.0            16.93     \n",
      "5        93.33           92.0            17.73     \n",
      "6        93.33           92.0            12.03     \n",
      "7        94.67           94.67           11.92     \n",
      "9        94.67           94.67           16.38     \n",
      "11       95.1            90.67           16.3      \n"
     ]
    }
   ],
   "source": [
    "## Python program to print the data\n",
    "d = {2: [90.67, 94.68, 13.14],\n",
    "3: [92.00, 92.00, 13.60],\n",
    "4: [92.00, 92.00, 16.93],\n",
    "5: [93.33, 92.00, 17.73],\n",
    "6: [93.33, 92.00, 12.03],\n",
    "7: [94.67, 94.67, 11.92],\n",
    "9: [94.67, 94.67, 16.38],\n",
    "11: [95.10, 90.67, 16.30]\n",
    "}\n",
    "print (\"{:<8} {:<15} {:<15} {:<10}\".format(\"k\",'Precisión (%)','Sklearn (%)','Tiempo (ms)'))\n",
    "for k, v in d.items():\n",
    "    p, s, t = v\n",
    "    print (\"{:<8} {:<15} {:<15} {:<10}\".format(k, p, s, t))"
   ]
  },
  {
   "cell_type": "markdown",
   "id": "4tR2hPyYRwz5",
   "metadata": {
    "id": "4tR2hPyYRwz5"
   },
   "source": [
    "#### c) Realice una gráfica de k vr precisión, de tal manera que le permita discutir los resultados obtenidos."
   ]
  },
  {
   "cell_type": "code",
   "execution_count": 3,
   "id": "A4Lk3E1PU-LM",
   "metadata": {
    "id": "A4Lk3E1PU-LM"
   },
   "outputs": [
    {
     "data": {
      "image/png": "[encoded data removed]",
      "text/plain": [
       "<Figure size 640x480 with 1 Axes>"
      ]
     },
     "metadata": {},
     "output_type": "display_data"
    }
   ],
   "source": [
    "import numpy as np\n",
    "import matplotlib.pyplot as plt\n",
    "\n",
    "t=[2,3,4,5,6,7,9,11]\n",
    "g=[90.67,92.0,92.0,93.33,93.33,94.67,94.67,95.1]\n",
    "plt.plot(t, g, color=\"blue\", label=\"Distance\")\n",
    "plt.legend(loc=\"upper right\")\n",
    "plt.xlabel(\"k\")\n",
    "plt.ylabel(\"Presición (%)\")\n",
    "plt.show()"
   ]
  },
  {
   "cell_type": "markdown",
   "id": "UFKo8SCZQTDZ",
   "metadata": {
    "id": "UFKo8SCZQTDZ"
   },
   "source": [
    "### 2.2. Clasificador de múltiples clase"
   ]
  },
  {
   "cell_type": "markdown",
   "id": "PRf17FrdRhEq",
   "metadata": {
    "id": "PRf17FrdRhEq"
   },
   "source": [
    "#### a) Cargue el set datos MNIST (dígitos), utilizando la biblioteca sklearn MNIST. En el listing 1 se muestra cómo hacerlo."
   ]
  },
  {
   "cell_type": "code",
   "execution_count": 4,
   "id": "2fd714bf",
   "metadata": {
    "id": "ucLp_90CVxbV"
   },
   "outputs": [],
   "source": [
    "    # Listing 1: Cargar el Set de Datos\n",
    "    \n",
    "from sklearn.datasets import load_digits\n",
    "\n",
    "digits = load_digits (n_class = 10)"
   ]
  },
  {
   "cell_type": "markdown",
   "id": "cOKi2xPPRv2u",
   "metadata": {
    "id": "cOKi2xPPRv2u"
   },
   "source": [
    "#### b) Muestre las primeras 12 imágenes en forma de tabla (3x4). Se debe de observar la imagen del dígito."
   ]
  },
  {
   "cell_type": "code",
   "execution_count": 5,
   "id": "gADkdEvMVxnQ",
   "metadata": {
    "id": "gADkdEvMVxnQ"
   },
   "outputs": [
    {
     "data": {
      "image/png": "[encoded data removed]",
      "text/plain": [
       "<Figure size 640x480 with 12 Axes>"
      ]
     },
     "metadata": {},
     "output_type": "display_data"
    }
   ],
   "source": [
    "import matplotlib.pyplot as plt\n",
    "import numpy as np\n",
    "\n",
    "fig, axs = plt.subplots(3, 4)\n",
    "\n",
    "plt.gray()\n",
    "\n",
    "                   \n",
    "for i in range(12):\n",
    "    axs.flat[i].imshow(digits.images[i])\n",
    "    axs.flat[i].set_title(f'Imagen {i+1}')\n",
    "    axs.flat[i].set_xticks([])\n",
    "    axs.flat[i].set_yticks([])\n",
    "\n",
    "plt.show()"
   ]
  },
  {
   "cell_type": "markdown",
   "id": "Sb0L3Ey9RwBI",
   "metadata": {
    "id": "Sb0L3Ey9RwBI"
   },
   "source": [
    "#### c) Muestre las dimensiones del set datos (cuántos datos y cuántos features)."
   ]
  },
  {
   "cell_type": "code",
   "execution_count": 6,
   "id": "DhE9qLCLVx0Q",
   "metadata": {
    "id": "DhE9qLCLVx0Q"
   },
   "outputs": [
    {
     "name": "stdout",
     "output_type": "stream",
     "text": [
      "Features:  64\n",
      "Data:  1797\n"
     ]
    }
   ],
   "source": [
    "shape = digits.data.shape\n",
    "print(\"Features: \", shape[1])\n",
    "print(\"Data: \", shape[0])"
   ]
  },
  {
   "cell_type": "markdown",
   "id": "GK48hLKjRwPF",
   "metadata": {
    "id": "GK48hLKjRwPF"
   },
   "source": [
    "#### d) Separe el set de datos de tal manera que el 75 % de los datos sea para entrenamiento, mientras que el 25 % sea para el test."
   ]
  },
  {
   "cell_type": "code",
   "execution_count": 36,
   "id": "eAQ2AcmsVyDe",
   "metadata": {
    "id": "eAQ2AcmsVyDe"
   },
   "outputs": [
    {
     "name": "stdout",
     "output_type": "stream",
     "text": [
      "Shape of training data:  (1348, 64)\n",
      "Shape of training target:  (1348,)\n",
      "Shape of test data:  (449, 64)\n",
      "Shape of test data:  (449,)\n"
     ]
    }
   ],
   "source": [
    "training_amount = round(shape[0] * 0.75)\n",
    "test_amount = shape[0] - training_amount\n",
    "\n",
    "training_data = []\n",
    "test_data = []\n",
    "\n",
    "if(training_amount + test_amount == shape[0]):\n",
    "    training_data = digits.data[:training_amount,:]\n",
    "    training_target = digits.target[:training_amount]\n",
    "    test_data = digits.data[training_amount:shape[0], :]\n",
    "    test_target = digits.target[training_amount:shape[0]]\n",
    "    print(\"Shape of training data: \", training_data.shape)\n",
    "    print(\"Shape of training target: \", training_target.shape)\n",
    "    print(\"Shape of test data: \", test_data.shape)\n",
    "    print(\"Shape of test data: \", test_target.shape)"
   ]
  },
  {
   "cell_type": "markdown",
   "id": "uokNxD6mU45F",
   "metadata": {
    "id": "uokNxD6mU45F"
   },
   "source": [
    "#### e) Instancie su propia implementación de KNN y pruebe el clasificador (k=2,3,5,7,8,10,11) con el set datos solicitados (note que son 10 clases). Muestre la precisión con el método normal y con el método de distancia implementado por cada grupo.\n"
   ]
  },
  {
   "cell_type": "code",
   "execution_count": 8,
   "id": "XUcZ4rIHVyO9",
   "metadata": {
    "id": "XUcZ4rIHVyO9"
   },
   "outputs": [
    {
     "name": "stdout",
     "output_type": "stream",
     "text": [
      " K  Uniform  Distance\n",
      " 2 0.962138  0.962138\n",
      " 3 0.971047  0.966592\n",
      " 5 0.964365  0.962138\n",
      " 7 0.955457  0.957684\n",
      " 8 0.955457  0.955457\n",
      "10 0.955457  0.957684\n",
      "11 0.957684  0.957684\n"
     ]
    }
   ],
   "source": [
    "import pandas as pd\n",
    "\n",
    "test_values_k = [2,3,5,7,8,10,11]\n",
    "accurancy_our = []\n",
    "\n",
    "our_classifier = None\n",
    "\n",
    "for k in test_values_k:\n",
    "    our_classifier = KNearestNeighbors(training_data, training_target, n_neighbors=k, n_classes=10)\n",
    "    our_accuracy_u, y_pred_u, y_test_u = our_classifier.score(test_data, test_target, weights='uniform')\n",
    "    our_accuracy_d, y_pred_d, y_test_d = our_classifier.score(test_data, test_target, weights='distance')\n",
    "    accurancy_our.append([k, our_accuracy_u, our_accuracy_d])\n",
    "    \n",
    "columns = ['K', 'Uniform', 'Distance']\n",
    "\n",
    "df = pd.DataFrame(accurancy_our, columns=columns)\n",
    "print(df.to_string(index=False))"
   ]
  },
  {
   "cell_type": "markdown",
   "id": "aHw_6sw2U4-X",
   "metadata": {
    "id": "aHw_6sw2U4-X"
   },
   "source": [
    "#### f) Instancie el clasificador de sklearn y realice las mismas pruebas que el punto anterior."
   ]
  },
  {
   "cell_type": "code",
   "execution_count": 9,
   "id": "RV15Hn3QVyfi",
   "metadata": {
    "id": "RV15Hn3QVyfi"
   },
   "outputs": [
    {
     "name": "stdout",
     "output_type": "stream",
     "text": [
      " K  Uniform  Distance\n",
      " 2 0.962138  0.962138\n",
      " 3 0.971047  0.966592\n",
      " 5 0.964365  0.962138\n",
      " 7 0.955457  0.957684\n",
      " 8 0.955457  0.955457\n",
      "10 0.955457  0.957684\n",
      "11 0.957684  0.957684\n"
     ]
    }
   ],
   "source": [
    "from sklearn.neighbors import KNeighborsClassifier\n",
    "import pandas as pd\n",
    "\n",
    "test_values_k = [2,3,5,7,8,10,11]\n",
    "accurancy_sklearn = []\n",
    "\n",
    "for k in test_values_k:\n",
    "    sklearn_classifier_u = KNeighborsClassifier(n_neighbors=k, weights='uniform').fit(training_data, training_target)\n",
    "    sklearn_classifier_d = KNeighborsClassifier(n_neighbors=k, weights='distance').fit(training_data, training_target)\n",
    "    our_accuracy_u = sklearn_classifier_u.score(test_data, test_target)\n",
    "    our_accuracy_d = sklearn_classifier_d.score(test_data, test_target)\n",
    "    accurancy_sklearn.append([k, our_accuracy_u, our_accuracy_d])\n",
    "    \n",
    "columns = ['K', 'Uniform', 'Distance']\n",
    "\n",
    "df = pd.DataFrame(accurancy_sklearn, columns=columns)\n",
    "print(df.to_string(index=False))"
   ]
  },
  {
   "cell_type": "markdown",
   "id": "yEaX2IJQU7Uo",
   "metadata": {
    "id": "yEaX2IJQU7Uo"
   },
   "source": [
    "#### g) Compare en una tabla la implementación propia del knn con el de la biblioteca sklearn"
   ]
  },
  {
   "cell_type": "markdown",
   "id": "664ece24",
   "metadata": {
    "id": "Mu53v3_8VywG"
   },
   "source": [
    "Se puede apreciar en el punto e) y en el punto f) como ambas tablas son exactamente iguales. Por lo tanto, la implementación propia y la implementación del sklearn son exactamente iguales"
   ]
  },
  {
   "cell_type": "markdown",
   "id": "LCFvUJnwU7bS",
   "metadata": {
    "id": "LCFvUJnwU7bS"
   },
   "source": [
    "#### h) Realice 5 imágenes con dígitos escrito a mano. Saque una foto a cada dígito y transforme la imagen a las mismas dimensiones que el set de datos. Pruebe su modelo prediciendo cada una de las fotos tomadas. Reporte la clasificación que brinda el modelo mostrando el la imagen original y la clasificación obtenida."
   ]
  },
  {
   "cell_type": "code",
   "execution_count": 35,
   "id": "RqF8MsOgVs7h",
   "metadata": {
    "id": "RqF8MsOgVs7h"
   },
   "outputs": [
    {
     "name": "stdout",
     "output_type": "stream",
     "text": [
      "[[ 0  0  1 15 10  0  0  0]\n",
      " [ 0  0 11  7 19  0  0  0]\n",
      " [ 0  0 13  8 23  0  0  0]\n",
      " [ 0  0  4 13 15  0  0  0]\n",
      " [ 0  0  0  0 12  0  0  0]\n",
      " [ 0  0  0  1 13  0  0  0]\n",
      " [ 0  0  0  2 11  0  0  0]\n",
      " [ 0  0  0  0  1  0  0  0]]\n"
     ]
    }
   ],
   "source": [
    "from PIL import Image\n",
    "from PIL import ImageOps\n",
    "import numpy as np\n",
    "\n",
    "# Open the image file\n",
    "number_9 = Image.open(\"numero_9.jpeg\")\n",
    "# Invert colors, black background and white number\n",
    "number_9 = ImageOps.invert(number_9)\n",
    "# Convert the image in gray scale\n",
    "number_9 = number_9.convert('L')\n",
    "# Resize the image in 8x8 pixels\n",
    "number_9 = number_9.resize((8,8))\n",
    "# Save the image\n",
    "number_9.save(\"number_9_converted.jpeg\")\n",
    "print(np.array(number_9))"
   ]
  },
  {
   "cell_type": "code",
   "execution_count": 48,
   "id": "22de3586",
   "metadata": {},
   "outputs": [
    {
     "name": "stdout",
     "output_type": "stream",
     "text": [
      "occurancy:  0.4\n",
      "y_pred:  [7 9 5 7 1]\n",
      "y_test:  [2 3 5 7 9]\n"
     ]
    },
    {
     "data": {
      "image/png": "[encoded data removed]",
      "text/plain": [
       "<Figure size 640x480 with 5 Axes>"
      ]
     },
     "metadata": {},
     "output_type": "display_data"
    }
   ],
   "source": [
    "import matplotlib.pyplot as plt\n",
    "import numpy as np\n",
    "\n",
    "numbers_test = [2, 3, 5, 7, 9]\n",
    "images_test = []\n",
    "\n",
    "fig, axs = plt.subplots(1, 5)\n",
    "plt.gray()\n",
    "\n",
    "j = 0\n",
    "for i in numbers_test:\n",
    "    image = Image.open(f'number{i}.jpeg')\n",
    "    image = np.array(image)\n",
    "    axs.flat[j].imshow(image)\n",
    "    axs.flat[j].set_title(f'Numero {i}')\n",
    "    axs.flat[j].set_xticks([])\n",
    "    axs.flat[j].set_yticks([])\n",
    "    j += 1\n",
    "    image = image.flatten()\n",
    "    images_test.append(image)\n",
    "\n",
    "    \n",
    "images_test = np.array(images_test)\n",
    "numbers_test = np.array(numbers_test)\n",
    "\n",
    "#predict = our_classifier.predict(images)\n",
    "\n",
    "\n",
    "our_accuracy_u_test, y_pred_u_test, y_test_u_test = our_classifier.score(images_test, numbers_test, weights='uniform')\n",
    "print(\"occurancy: \", our_accuracy_u_test)\n",
    "print(\"y_pred: \", y_pred_u_test)\n",
    "print(\"y_test: \", y_test_u_test)\n",
    "\n",
    "plt.show()"
   ]
  }
 ],
 "metadata": {
  "colab": {
   "provenance": []
  },
  "kernelspec": {
   "display_name": "Python 3 (ipykernel)",
   "language": "python",
   "name": "python3"
  },
  "language_info": {
   "codemirror_mode": {
    "name": "ipython",
    "version": 3
   },
   "file_extension": ".py",
   "mimetype": "text/x-python",
   "name": "python",
   "nbconvert_exporter": "python",
   "pygments_lexer": "ipython3",
   "version": "3.11.2"
  }
 },
 "nbformat": 4,
 "nbformat_minor": 5
}
