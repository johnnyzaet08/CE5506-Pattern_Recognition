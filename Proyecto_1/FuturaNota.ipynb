{
 "cells": [
  {
   "cell_type": "code",
   "execution_count": 2,
   "metadata": {},
   "outputs": [],
   "source": [
    "import numpy as np\n",
    "import matplotlib.pyplot as plt\n",
    "import pandas as pd\n",
    "import seaborn as sns\n",
    "from sklearn.calibration import LabelEncoder\n",
    "from sklearn.model_selection import train_test_split\n",
    "from collections import Counter\n",
    "from sklearn.tree import DecisionTreeClassifier\n",
    "from sklearn.neighbors import KNeighborsClassifier\n",
    "from sklearn.linear_model import LogisticRegression\n",
    "from sklearn.metrics import classification_report\n",
    "from sklearn.metrics import accuracy_score, precision_score, recall_score\n",
    "import matplotlib.pyplot as plt\n",
    "from sklearn.metrics import roc_curve, auc\n",
    "from sklearn.impute import SimpleImputer\n",
    "from sklearn.preprocessing import MinMaxScaler\n",
    "import math\n",
    "import csv\n",
    "from sklearn.linear_model import LinearRegression"
   ]
  },
  {
   "attachments": {},
   "cell_type": "markdown",
   "metadata": {},
   "source": [
    "# 1- Análisis estadístico"
   ]
  },
  {
   "cell_type": "code",
   "execution_count": 3,
   "metadata": {},
   "outputs": [
    {
     "name": "stdout",
     "output_type": "stream",
     "text": [
      "        proyecto1   proyecto2    examen 1     taller1        nota\n",
      "count  102.000000  102.000000  102.000000  102.000000  102.000000\n",
      "mean    64.125490   65.312745   42.665686   69.585294   66.008235\n",
      "std     32.082628   29.468697   20.549224   29.608938   26.003992\n",
      "min      0.000000    0.000000    0.000000    0.000000    0.750000\n",
      "25%     40.500000   60.000000   29.200000   60.000000   60.435000\n",
      "50%     70.800000   70.000000   41.650000   79.300000   74.430000\n",
      "75%     94.750000   93.325000   56.850000  100.000000   81.752500\n",
      "max    100.000000  100.000000   86.500000  100.000000   97.610000\n"
     ]
    }
   ],
   "source": [
    "# Cargar el conjunto de datos en un marco de datos\n",
    "Notas = pd.read_csv(\"DataSetGrades/NotasFuturas.csv\")\n",
    "\n",
    "#Varios valores estadisticos\n",
    "print(Notas.describe())"
   ]
  },
  {
   "cell_type": "code",
   "execution_count": 6,
   "metadata": {},
   "outputs": [
    {
     "name": "stdout",
     "output_type": "stream",
     "text": [
      "[80.2   2.5  80.8  82.1  69.4  76.6  70.7  79.3  67.6  77.6  75.2  72.4\n",
      " 78.6  25.9  67.9  50.2  68.2  82.9  76.3   2.   58.   68.3  73.1  69.6\n",
      " 96.   64.97 79.64 11.69 10.8  96.1  70.44 91.5  54.59 91.8  69.24 76.9\n",
      " 76.11 79.03 77.23  5.92 75.11 97.61 80.09 77.12 58.13 43.75 83.63 74.67\n",
      " 81.16 73.35 81.03  1.25 78.57 78.19 92.61 72.41 93.99 79.1  47.13  4.09\n",
      " 76.16 81.95 73.36 79.32 73.19  0.9  70.08 91.02 73.41 94.97 87.85 84.43\n",
      " 67.94 10.86 66.38 59.96 74.19  0.75 61.86 38.39 39.24 87.62 87.61 10.44\n",
      " 88.7  22.01 36.27 59.59 44.57 23.79 85.18 88.17 88.04 68.76 87.66 84.18\n",
      " 87.47 86.24 87.31 69.37]\n"
     ]
    }
   ],
   "source": [
    "# Calcular la matriz de correlación\n",
    "corr = Notas.corr()\n",
    "\n",
    "# Cuales son los resultados que se tiene de diabetes.\n",
    "columnas = Notas[\"nota\"].unique()\n",
    "\n",
    "print(columnas)\n"
   ]
  },
  {
   "attachments": {},
   "cell_type": "markdown",
   "metadata": {},
   "source": [
    "# 2- Visualización de los datos"
   ]
  },
  {
   "cell_type": "code",
   "execution_count": 7,
   "metadata": {},
   "outputs": [
    {
     "data": {
      "text/plain": [
       "<Axes: >"
      ]
     },
     "execution_count": 7,
     "metadata": {},
     "output_type": "execute_result"
    },
    {
     "data": {
      "image/png": "[encoded data removed]",
      "text/plain": [
       "<Figure size 640x480 with 2 Axes>"
      ]
     },
     "metadata": {},
     "output_type": "display_data"
    }
   ],
   "source": [
    "# Graficar la matriz de correlación utilizando un mapa de calor\n",
    "sns.heatmap(corr, cmap='coolwarm')"
   ]
  },
  {
   "cell_type": "code",
   "execution_count": 10,
   "metadata": {},
   "outputs": [],
   "source": [
    "# Crea la gráfica de cajas\n",
    "\n",
    "# Muestra las gráficas de cajas para todos los features\n",
    "#for feature in Notas.columns[:-1]:\n",
    "#    sns.catplot(data=Notas, x='nota', y=feature, kind='box')"
   ]
  },
  {
   "attachments": {},
   "cell_type": "markdown",
   "metadata": {},
   "source": [
    "# 3- Normalización"
   ]
  },
  {
   "cell_type": "code",
   "execution_count": 14,
   "metadata": {},
   "outputs": [
    {
     "name": "stdout",
     "output_type": "stream",
     "text": [
      "   proyecto1  proyecto2  examen 1  taller1  nota\n",
      "0      1.000   1.000000  0.516739      0.8  80.2\n",
      "1      1.000   0.000000  0.462882      1.0  80.8\n",
      "2      1.000   1.000000  0.637555      1.0  82.1\n",
      "3      0.425   0.272727  0.542940      1.0  69.4\n",
      "4      0.453   0.272727  0.301310      1.0  76.6\n"
     ]
    }
   ],
   "source": [
    "# Imputar valores faltantes\n",
    "imputer = SimpleImputer(strategy=\"median\")\n",
    "imputed_data = pd.DataFrame(imputer.fit_transform(Notas), columns=Notas.columns)\n",
    "\n",
    "# Eliminar valores atípicos\n",
    "q1 = Notas.quantile(0.25)\n",
    "q3 = Notas.quantile(0.75)\n",
    "iqr = q3 - q1\n",
    "Notas = Notas[~((Notas < (q1 - 1.5 * iqr)) | (Notas > (q3 + 1.5 * iqr))).any(axis=1)]\n",
    "\n",
    "# Normalizar las variables de entrada\n",
    "scaler = MinMaxScaler()\n",
    "normalized_data = pd.DataFrame(scaler.fit_transform(imputed_data.iloc[:, :-1]), columns=imputed_data.columns[:-1])\n",
    "\n",
    "# Agregar la variable de salida\n",
    "normalized_data[\"nota\"] = imputed_data[\"nota\"]\n",
    "\n",
    "# Guardar los datos normalizados en un nuevo archivo CSV\n",
    "#normalized_data.to_csv(\"DataSetGrades/NotasFuturas-Normalizadas.csv\", index=False)\n",
    "\n",
    "print(normalized_data.head())"
   ]
  },
  {
   "attachments": {},
   "cell_type": "markdown",
   "metadata": {},
   "source": [
    "# 5- Aplicar modelo con librerias"
   ]
  },
  {
   "cell_type": "code",
   "execution_count": 15,
   "metadata": {},
   "outputs": [
    {
     "name": "stdout",
     "output_type": "stream",
     "text": [
      "   proyecto1  proyecto2  examen 1  taller1  nota\n",
      "0      1.000   1.000000  0.516739      0.8  80.2\n",
      "1      1.000   0.000000  0.462882      1.0  80.8\n",
      "2      1.000   1.000000  0.637555      1.0  82.1\n",
      "3      0.425   0.272727  0.542940      1.0  69.4\n",
      "4      0.453   0.272727  0.301310      1.0  76.6\n",
      "0     1.000000\n",
      "1     0.000000\n",
      "2     1.000000\n",
      "3     0.272727\n",
      "4     0.272727\n",
      "        ...   \n",
      "83    0.454545\n",
      "84    0.787273\n",
      "85    1.000000\n",
      "86    1.000000\n",
      "87    1.000000\n",
      "Name: proyecto2, Length: 88, dtype: float64\n",
      "\n",
      "\n",
      "0     80.20\n",
      "1     80.80\n",
      "2     82.10\n",
      "3     69.40\n",
      "4     76.60\n",
      "      ...  \n",
      "83    84.18\n",
      "84    87.47\n",
      "85    86.24\n",
      "86    87.31\n",
      "87    69.37\n",
      "Name: nota, Length: 88, dtype: float64\n"
     ]
    },
    {
     "ename": "ValueError",
     "evalue": "Expected 2D array, got 1D array instead:\narray=[1.         0.         1.         0.27272727 0.27272727 0.27272727\n 1.         0.30909091 1.         0.27272727 0.27272727 0.27272727\n 0.27272727 0.27272727 0.         0.27272727 0.27272727 0.16363636\n 0.30909091 0.30909091 0.27272727 0.27272727 1.         0.27272727\n 1.         1.         0.27272727 1.         0.27272727 1.\n 0.27272727 0.54545455 0.54545455 0.54545455 0.54545455 0.54545455\n 1.         0.54545455 0.45454545 0.         0.         0.90909091\n 0.36363636 0.45454545 0.90909091 0.94545455 0.45454545 0.33272727\n 0.45454545 0.94545455 0.45454545 0.94545455 0.90909091 0.\n 0.45454545 0.45454545 0.36363636 0.45454545 0.33272727 0.90909091\n 0.94545455 0.33272727 1.         1.         0.45454545 0.48545455\n 0.18181818 0.18181818 0.45454545 0.18181818 1.         0.05454545\n 0.78727273 0.78727273 1.         0.05454545 0.48545455 0.05454545\n 0.45454545 1.         0.48545455 0.48545455 0.78727273 0.45454545\n 0.78727273 1.         1.         1.        ].\nReshape your data either using array.reshape(-1, 1) if your data has a single feature or array.reshape(1, -1) if it contains a single sample.",
     "output_type": "error",
     "traceback": [
      "\u001b[0;31m---------------------------------------------------------------------------\u001b[0m",
      "\u001b[0;31mValueError\u001b[0m                                Traceback (most recent call last)",
      "Cell \u001b[0;32mIn[15], line 17\u001b[0m\n\u001b[1;32m     15\u001b[0m \u001b[39mprint\u001b[39m(y)\n\u001b[1;32m     16\u001b[0m \u001b[39m# Entrenamos el modelo utilizando los datos de entrada\u001b[39;00m\n\u001b[0;32m---> 17\u001b[0m modelo\u001b[39m.\u001b[39;49mfit(x, y)\n\u001b[1;32m     19\u001b[0m \u001b[39m# Predecimos valores utilizando el modelo\u001b[39;00m\n\u001b[1;32m     20\u001b[0m y_pred \u001b[39m=\u001b[39m modelo\u001b[39m.\u001b[39mpredict(x)\n",
      "File \u001b[0;32m~/.local/lib/python3.10/site-packages/sklearn/linear_model/_base.py:648\u001b[0m, in \u001b[0;36mLinearRegression.fit\u001b[0;34m(self, X, y, sample_weight)\u001b[0m\n\u001b[1;32m    644\u001b[0m n_jobs_ \u001b[39m=\u001b[39m \u001b[39mself\u001b[39m\u001b[39m.\u001b[39mn_jobs\n\u001b[1;32m    646\u001b[0m accept_sparse \u001b[39m=\u001b[39m \u001b[39mFalse\u001b[39;00m \u001b[39mif\u001b[39;00m \u001b[39mself\u001b[39m\u001b[39m.\u001b[39mpositive \u001b[39melse\u001b[39;00m [\u001b[39m\"\u001b[39m\u001b[39mcsr\u001b[39m\u001b[39m\"\u001b[39m, \u001b[39m\"\u001b[39m\u001b[39mcsc\u001b[39m\u001b[39m\"\u001b[39m, \u001b[39m\"\u001b[39m\u001b[39mcoo\u001b[39m\u001b[39m\"\u001b[39m]\n\u001b[0;32m--> 648\u001b[0m X, y \u001b[39m=\u001b[39m \u001b[39mself\u001b[39;49m\u001b[39m.\u001b[39;49m_validate_data(\n\u001b[1;32m    649\u001b[0m     X, y, accept_sparse\u001b[39m=\u001b[39;49maccept_sparse, y_numeric\u001b[39m=\u001b[39;49m\u001b[39mTrue\u001b[39;49;00m, multi_output\u001b[39m=\u001b[39;49m\u001b[39mTrue\u001b[39;49;00m\n\u001b[1;32m    650\u001b[0m )\n\u001b[1;32m    652\u001b[0m sample_weight \u001b[39m=\u001b[39m _check_sample_weight(\n\u001b[1;32m    653\u001b[0m     sample_weight, X, dtype\u001b[39m=\u001b[39mX\u001b[39m.\u001b[39mdtype, only_non_negative\u001b[39m=\u001b[39m\u001b[39mTrue\u001b[39;00m\n\u001b[1;32m    654\u001b[0m )\n\u001b[1;32m    656\u001b[0m X, y, X_offset, y_offset, X_scale \u001b[39m=\u001b[39m _preprocess_data(\n\u001b[1;32m    657\u001b[0m     X,\n\u001b[1;32m    658\u001b[0m     y,\n\u001b[0;32m   (...)\u001b[0m\n\u001b[1;32m    661\u001b[0m     sample_weight\u001b[39m=\u001b[39msample_weight,\n\u001b[1;32m    662\u001b[0m )\n",
      "File \u001b[0;32m~/.local/lib/python3.10/site-packages/sklearn/base.py:584\u001b[0m, in \u001b[0;36mBaseEstimator._validate_data\u001b[0;34m(self, X, y, reset, validate_separately, **check_params)\u001b[0m\n\u001b[1;32m    582\u001b[0m         y \u001b[39m=\u001b[39m check_array(y, input_name\u001b[39m=\u001b[39m\u001b[39m\"\u001b[39m\u001b[39my\u001b[39m\u001b[39m\"\u001b[39m, \u001b[39m*\u001b[39m\u001b[39m*\u001b[39mcheck_y_params)\n\u001b[1;32m    583\u001b[0m     \u001b[39melse\u001b[39;00m:\n\u001b[0;32m--> 584\u001b[0m         X, y \u001b[39m=\u001b[39m check_X_y(X, y, \u001b[39m*\u001b[39;49m\u001b[39m*\u001b[39;49mcheck_params)\n\u001b[1;32m    585\u001b[0m     out \u001b[39m=\u001b[39m X, y\n\u001b[1;32m    587\u001b[0m \u001b[39mif\u001b[39;00m \u001b[39mnot\u001b[39;00m no_val_X \u001b[39mand\u001b[39;00m check_params\u001b[39m.\u001b[39mget(\u001b[39m\"\u001b[39m\u001b[39mensure_2d\u001b[39m\u001b[39m\"\u001b[39m, \u001b[39mTrue\u001b[39;00m):\n",
      "File \u001b[0;32m~/.local/lib/python3.10/site-packages/sklearn/utils/validation.py:1106\u001b[0m, in \u001b[0;36mcheck_X_y\u001b[0;34m(X, y, accept_sparse, accept_large_sparse, dtype, order, copy, force_all_finite, ensure_2d, allow_nd, multi_output, ensure_min_samples, ensure_min_features, y_numeric, estimator)\u001b[0m\n\u001b[1;32m   1101\u001b[0m         estimator_name \u001b[39m=\u001b[39m _check_estimator_name(estimator)\n\u001b[1;32m   1102\u001b[0m     \u001b[39mraise\u001b[39;00m \u001b[39mValueError\u001b[39;00m(\n\u001b[1;32m   1103\u001b[0m         \u001b[39mf\u001b[39m\u001b[39m\"\u001b[39m\u001b[39m{\u001b[39;00mestimator_name\u001b[39m}\u001b[39;00m\u001b[39m requires y to be passed, but the target y is None\u001b[39m\u001b[39m\"\u001b[39m\n\u001b[1;32m   1104\u001b[0m     )\n\u001b[0;32m-> 1106\u001b[0m X \u001b[39m=\u001b[39m check_array(\n\u001b[1;32m   1107\u001b[0m     X,\n\u001b[1;32m   1108\u001b[0m     accept_sparse\u001b[39m=\u001b[39;49maccept_sparse,\n\u001b[1;32m   1109\u001b[0m     accept_large_sparse\u001b[39m=\u001b[39;49maccept_large_sparse,\n\u001b[1;32m   1110\u001b[0m     dtype\u001b[39m=\u001b[39;49mdtype,\n\u001b[1;32m   1111\u001b[0m     order\u001b[39m=\u001b[39;49morder,\n\u001b[1;32m   1112\u001b[0m     copy\u001b[39m=\u001b[39;49mcopy,\n\u001b[1;32m   1113\u001b[0m     force_all_finite\u001b[39m=\u001b[39;49mforce_all_finite,\n\u001b[1;32m   1114\u001b[0m     ensure_2d\u001b[39m=\u001b[39;49mensure_2d,\n\u001b[1;32m   1115\u001b[0m     allow_nd\u001b[39m=\u001b[39;49mallow_nd,\n\u001b[1;32m   1116\u001b[0m     ensure_min_samples\u001b[39m=\u001b[39;49mensure_min_samples,\n\u001b[1;32m   1117\u001b[0m     ensure_min_features\u001b[39m=\u001b[39;49mensure_min_features,\n\u001b[1;32m   1118\u001b[0m     estimator\u001b[39m=\u001b[39;49mestimator,\n\u001b[1;32m   1119\u001b[0m     input_name\u001b[39m=\u001b[39;49m\u001b[39m\"\u001b[39;49m\u001b[39mX\u001b[39;49m\u001b[39m\"\u001b[39;49m,\n\u001b[1;32m   1120\u001b[0m )\n\u001b[1;32m   1122\u001b[0m y \u001b[39m=\u001b[39m _check_y(y, multi_output\u001b[39m=\u001b[39mmulti_output, y_numeric\u001b[39m=\u001b[39my_numeric, estimator\u001b[39m=\u001b[39mestimator)\n\u001b[1;32m   1124\u001b[0m check_consistent_length(X, y)\n",
      "File \u001b[0;32m~/.local/lib/python3.10/site-packages/sklearn/utils/validation.py:902\u001b[0m, in \u001b[0;36mcheck_array\u001b[0;34m(array, accept_sparse, accept_large_sparse, dtype, order, copy, force_all_finite, ensure_2d, allow_nd, ensure_min_samples, ensure_min_features, estimator, input_name)\u001b[0m\n\u001b[1;32m    900\u001b[0m     \u001b[39m# If input is 1D raise error\u001b[39;00m\n\u001b[1;32m    901\u001b[0m     \u001b[39mif\u001b[39;00m array\u001b[39m.\u001b[39mndim \u001b[39m==\u001b[39m \u001b[39m1\u001b[39m:\n\u001b[0;32m--> 902\u001b[0m         \u001b[39mraise\u001b[39;00m \u001b[39mValueError\u001b[39;00m(\n\u001b[1;32m    903\u001b[0m             \u001b[39m\"\u001b[39m\u001b[39mExpected 2D array, got 1D array instead:\u001b[39m\u001b[39m\\n\u001b[39;00m\u001b[39marray=\u001b[39m\u001b[39m{}\u001b[39;00m\u001b[39m.\u001b[39m\u001b[39m\\n\u001b[39;00m\u001b[39m\"\u001b[39m\n\u001b[1;32m    904\u001b[0m             \u001b[39m\"\u001b[39m\u001b[39mReshape your data either using array.reshape(-1, 1) if \u001b[39m\u001b[39m\"\u001b[39m\n\u001b[1;32m    905\u001b[0m             \u001b[39m\"\u001b[39m\u001b[39myour data has a single feature or array.reshape(1, -1) \u001b[39m\u001b[39m\"\u001b[39m\n\u001b[1;32m    906\u001b[0m             \u001b[39m\"\u001b[39m\u001b[39mif it contains a single sample.\u001b[39m\u001b[39m\"\u001b[39m\u001b[39m.\u001b[39mformat(array)\n\u001b[1;32m    907\u001b[0m         )\n\u001b[1;32m    909\u001b[0m \u001b[39mif\u001b[39;00m dtype_numeric \u001b[39mand\u001b[39;00m array\u001b[39m.\u001b[39mdtype\u001b[39m.\u001b[39mkind \u001b[39min\u001b[39;00m \u001b[39m\"\u001b[39m\u001b[39mUSV\u001b[39m\u001b[39m\"\u001b[39m:\n\u001b[1;32m    910\u001b[0m     \u001b[39mraise\u001b[39;00m \u001b[39mValueError\u001b[39;00m(\n\u001b[1;32m    911\u001b[0m         \u001b[39m\"\u001b[39m\u001b[39mdtype=\u001b[39m\u001b[39m'\u001b[39m\u001b[39mnumeric\u001b[39m\u001b[39m'\u001b[39m\u001b[39m is not compatible with arrays of bytes/strings.\u001b[39m\u001b[39m\"\u001b[39m\n\u001b[1;32m    912\u001b[0m         \u001b[39m\"\u001b[39m\u001b[39mConvert your data to numeric values explicitly instead.\u001b[39m\u001b[39m\"\u001b[39m\n\u001b[1;32m    913\u001b[0m     )\n",
      "\u001b[0;31mValueError\u001b[0m: Expected 2D array, got 1D array instead:\narray=[1.         0.         1.         0.27272727 0.27272727 0.27272727\n 1.         0.30909091 1.         0.27272727 0.27272727 0.27272727\n 0.27272727 0.27272727 0.         0.27272727 0.27272727 0.16363636\n 0.30909091 0.30909091 0.27272727 0.27272727 1.         0.27272727\n 1.         1.         0.27272727 1.         0.27272727 1.\n 0.27272727 0.54545455 0.54545455 0.54545455 0.54545455 0.54545455\n 1.         0.54545455 0.45454545 0.         0.         0.90909091\n 0.36363636 0.45454545 0.90909091 0.94545455 0.45454545 0.33272727\n 0.45454545 0.94545455 0.45454545 0.94545455 0.90909091 0.\n 0.45454545 0.45454545 0.36363636 0.45454545 0.33272727 0.90909091\n 0.94545455 0.33272727 1.         1.         0.45454545 0.48545455\n 0.18181818 0.18181818 0.45454545 0.18181818 1.         0.05454545\n 0.78727273 0.78727273 1.         0.05454545 0.48545455 0.05454545\n 0.45454545 1.         0.48545455 0.48545455 0.78727273 0.45454545\n 0.78727273 1.         1.         1.        ].\nReshape your data either using array.reshape(-1, 1) if your data has a single feature or array.reshape(1, -1) if it contains a single sample."
     ]
    }
   ],
   "source": [
    "\n",
    "# Leer el archivo CSV y cargarlo en un dataframe\n",
    "normalized_data = pd.read_csv(\"DataSetGrades/NotasFuturas-Normalizadas.csv\")\n",
    "\n",
    "# Creamos el modelo de regresión lineal con librerias\n",
    "modelo = LinearRegression()\n",
    "\n",
    "print(normalized_data.head())\n",
    "\n",
    "# Extraemos las características y las etiquetas del conjunto de datos\n",
    "x = normalized_data[\"proyecto2\"]\n",
    "y = normalized_data[\"nota\"]\n",
    "\n",
    "print(x)\n",
    "print(\"\\n\")\n",
    "print(y)\n",
    "# Entrenamos el modelo utilizando los datos de entrada\n",
    "modelo.fit(x, y)\n",
    "\n",
    "# Predecimos valores utilizando el modelo\n",
    "y_pred = modelo.predict(x)\n",
    "# Imprimimos los coeficientes de la regresión\n",
    "print('Intercepto:', modelo.intercept_)\n",
    "print('Pendiente:', modelo.coef_[0])\n",
    "\n",
    "# Graficamos los resultados\n",
    "plt.scatter(y, y_pred)\n",
    "plt.xlabel('Precios reales')\n",
    "plt.ylabel('Precios predichos')\n",
    "plt.title('Regresión lineal para precios de casas en Boston')\n",
    "plt.show()"
   ]
  }
 ],
 "metadata": {
  "kernelspec": {
   "display_name": "Python 3",
   "language": "python",
   "name": "python3"
  },
  "language_info": {
   "codemirror_mode": {
    "name": "ipython",
    "version": 3
   },
   "file_extension": ".py",
   "mimetype": "text/x-python",
   "name": "python",
   "nbconvert_exporter": "python",
   "pygments_lexer": "ipython3",
   "version": "3.10.6"
  },
  "orig_nbformat": 4
 },
 "nbformat": 4,
 "nbformat_minor": 2
}
