{
 "cells": [
  {
   "cell_type": "code",
   "execution_count": 5,
   "metadata": {},
   "outputs": [],
   "source": [
    "import numpy as np\n",
    "import matplotlib.pyplot as plt\n",
    "import pandas as pd\n",
    "import seaborn as sns\n",
    "from sklearn.calibration import LabelEncoder\n",
    "from sklearn.model_selection import train_test_split\n",
    "from collections import Counter\n",
    "from sklearn.tree import DecisionTreeClassifier\n",
    "from sklearn.neighbors import KNeighborsClassifier\n",
    "from sklearn.linear_model import LogisticRegression\n",
    "from sklearn.metrics import classification_report\n",
    "from sklearn.metrics import accuracy_score, precision_score, recall_score\n",
    "import matplotlib.pyplot as plt\n",
    "from sklearn.metrics import roc_curve, auc\n",
    "from sklearn.impute import SimpleImputer\n",
    "from sklearn.preprocessing import MinMaxScaler\n",
    "import math\n",
    "import csv\n"
   ]
  },
  {
   "cell_type": "code",
   "execution_count": null,
   "metadata": {},
   "outputs": [],
   "source": [
    "# set de datos\n",
    "#En los cuatro datasets\n",
    "#Examen 1 - 15% Todos\n",
    "#Tarea 1 - 3.75% Todos\n",
    "#Proyecto 1 - 11.25% Todos\n",
    "#Proyecto 2 - 13.12% Todos\n",
    "\n",
    "# Unificar los 4 set de datos, eliminar lo que no se necesita, ver outliers\n",
    "\n",
    "\n",
    "#0) Ordenar ese data set\n",
    "\n",
    "#1) Realizar un análisis estadístico básico del conjunto de datos, como calcular las estadísticas descriptivas (media, mediana, desviación estándar, etc.) \n",
    "#y la correlación entre las diferentes características.\n",
    "\n",
    "#2) Visualizar los datos mediante gráficos para comprender mejor la relación entre las diferentes características y la calidad del vino.\n",
    "#Por ejemplo, se pueden crear gráficos de dispersión para visualizar la relación entre cada característica y la calidad del vino.\n",
    "\n",
    "#3) Realizar una limpieza de datos básica para tratar los valores perdidos y \n",
    "#los datos atípicos, que pueden afectar la precisión del modelo de regresión.\n",
    "\n",
    "#4) Preprcesar los datos para meter las etiquetas de los valores buenos y malos\n",
    "\n",
    "#5) Probarlo con las librerias y luego con el modelo manual y esperar que este bien xd \n",
    "\n"
   ]
  },
  {
   "cell_type": "code",
   "execution_count": 15,
   "metadata": {},
   "outputs": [
    {
     "name": "stdout",
     "output_type": "stream",
     "text": [
      "       Total: Exámenes 30%  Tarea 1 0.00%  Tarea 1 evaluación 3.75%  \\\n",
      "count            28.000000      28.000000                 28.000000   \n",
      "mean             15.228214      36.664286                 36.664286   \n",
      "std               7.064145      37.495552                 37.495552   \n",
      "min               0.000000       0.000000                  0.000000   \n",
      "25%              15.097500       0.000000                  0.000000   \n",
      "50%              16.710000      24.000000                 24.000000   \n",
      "75%              18.980000      69.025000                 69.025000   \n",
      "max              24.590000     100.000000                100.000000   \n",
      "\n",
      "       Total: Tareas 7.5%  Total: Proyectos 67.5%  Total: Investigación 5%  \\\n",
      "count           28.000000               28.000000                28.000000   \n",
      "mean             4.210714               35.395000                 4.285714   \n",
      "std              2.518730               16.277138                 1.781742   \n",
      "min              0.000000                0.000000                 0.000000   \n",
      "25%              3.155000               34.840000                 5.000000   \n",
      "50%              4.455000               43.035000                 5.000000   \n",
      "75%              6.327500               44.520000                 5.000000   \n",
      "max              7.500000               49.310000                 5.000000   \n",
      "\n",
      "         Taller 1    Taller 2    Taller 3    Taller 4    Taller 5  \\\n",
      "count   28.000000   28.000000   28.000000   28.000000   28.000000   \n",
      "mean    58.571429   62.339286   59.728571   70.239286   61.785714   \n",
      "std     30.594236   39.744623   43.216688   43.829242   44.559870   \n",
      "min      0.000000    0.000000    0.000000    0.000000    0.000000   \n",
      "25%     40.000000   27.750000    0.000000   24.975000    0.000000   \n",
      "50%     60.000000   78.850000   81.250000  100.000000   80.000000   \n",
      "75%     80.000000   95.300000   97.525000  100.000000  100.000000   \n",
      "max    100.000000  100.000000  100.000000  100.000000  100.000000   \n",
      "\n",
      "       Total: Talleres 7.5%  Total: Puntaje extra 2%    Total:       Final  \n",
      "count             28.000000                28.000000  28.000000  28.000000  \n",
      "mean               4.690000                 0.928571  64.738214  65.000000  \n",
      "std                2.377068                 1.015749  28.484576  28.771128  \n",
      "min                0.000000                 0.000000   0.000000   0.000000  \n",
      "25%                3.412500                 0.000000  67.092500  67.500000  \n",
      "50%                5.690000                 0.000000  74.040000  75.000000  \n",
      "75%                6.570000                 2.000000  79.747500  80.000000  \n",
      "max                7.500000                 2.000000  93.990000  95.000000  \n",
      "\n",
      "\n"
     ]
    }
   ],
   "source": [
    "# Cargar el conjunto de datos en un marco de datos\n",
    "S1_2021 = pd.read_csv(\"DataSetGrades/2021-s1-coma.csv\")\n",
    "S2_2021 = pd.read_csv(\"DataSetGrades/2021-s2-coma.csv\")\n",
    "S1_2022 = pd.read_csv(\"DataSetGrades/2022-s1-coma.csv\")\n",
    "S2_2022 = pd.read_csv(\"DataSetGrades/2022-s2-coma.csv\")\n",
    "\n",
    "#Varios valores estadisticos\n",
    "print(S1_2022.describe())\n"
   ]
  }
 ],
 "metadata": {
  "kernelspec": {
   "display_name": "Python 3",
   "language": "python",
   "name": "python3"
  },
  "language_info": {
   "codemirror_mode": {
    "name": "ipython",
    "version": 3
   },
   "file_extension": ".py",
   "mimetype": "text/x-python",
   "name": "python",
   "nbconvert_exporter": "python",
   "pygments_lexer": "ipython3",
   "version": "3.10.6"
  },
  "orig_nbformat": 4
 },
 "nbformat": 4,
 "nbformat_minor": 2
}
