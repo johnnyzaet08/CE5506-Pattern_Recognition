{
 "cells": [
  {
   "cell_type": "code",
   "execution_count": 5,
   "metadata": {},
   "outputs": [],
   "source": [
    "import numpy as np\n",
    "import matplotlib.pyplot as plt\n",
    "import pandas as pd\n",
    "import seaborn as sns\n",
    "from sklearn.calibration import LabelEncoder\n",
    "from sklearn.model_selection import train_test_split\n",
    "from collections import Counter\n",
    "from sklearn.tree import DecisionTreeClassifier\n",
    "from sklearn.neighbors import KNeighborsClassifier\n",
    "from sklearn.linear_model import LogisticRegression\n",
    "from sklearn.metrics import classification_report\n",
    "from sklearn.metrics import accuracy_score, precision_score, recall_score\n",
    "import matplotlib.pyplot as plt\n",
    "from sklearn.metrics import roc_curve, auc\n",
    "from sklearn.impute import SimpleImputer\n",
    "from sklearn.preprocessing import MinMaxScaler\n",
    "import math\n",
    "import csv\n"
   ]
  },
  {
   "cell_type": "code",
   "execution_count": null,
   "metadata": {},
   "outputs": [],
   "source": [
    "# set de datos\n",
    "#En los cuatro datasets\n",
    "#Examen 1 - 15% Todos\n",
    "#Tarea 1 - 3.75% Todos\n",
    "#Proyecto 1 - 11.25% Todos\n",
    "#Proyecto 2 - 13.12% Todos\n",
    "\n",
    "# Unificar los 4 set de datos, eliminar lo que no se necesita, ver outliers\n",
    "\n",
    "\n",
    "#0) Ordenar ese data set\n",
    "\n",
    "#1) Realizar un análisis estadístico básico del conjunto de datos, como calcular las estadísticas descriptivas (media, mediana, desviación estándar, etc.) \n",
    "#y la correlación entre las diferentes características.\n",
    "\n",
    "#2) Visualizar los datos mediante gráficos para comprender mejor la relación entre las diferentes características y la calidad del vino.\n",
    "#Por ejemplo, se pueden crear gráficos de dispersión para visualizar la relación entre cada característica y la calidad del vino.\n",
    "\n",
    "#3) Realizar una limpieza de datos básica para tratar los valores perdidos y \n",
    "#los datos atípicos, que pueden afectar la precisión del modelo de regresión.\n",
    "\n",
    "#4) Preprcesar los datos para meter las etiquetas de los valores buenos y malos\n",
    "\n",
    "#5) Probarlo con las librerias y luego con el modelo manual y esperar que este bien xd \n",
    "\n"
   ]
  },
  {
   "cell_type": "code",
   "execution_count": 16,
   "metadata": {},
   "outputs": [
    {
     "name": "stdout",
     "output_type": "stream",
     "text": [
      "       Examen 1 15%  Tarea 1 3.75%  Proyecto 1 11.25%  Proyecto 2 13.12%\n",
      "count    105.000000     105.000000         105.000000         105.000000\n",
      "mean      41.446667      45.351429          62.293333          63.446667\n",
      "std       21.473235      37.337891          33.389105          31.030451\n",
      "min        0.000000       0.000000           0.000000           0.000000\n",
      "25%       28.800000       9.300000          40.000000          55.000000\n",
      "50%       41.000000      38.700000          70.000000          65.000000\n",
      "75%       56.700000      80.000000          94.000000          88.300000\n",
      "max       86.500000     100.000000         100.000000         100.000000\n"
     ]
    }
   ],
   "source": [
    "# Cargar el conjunto de datos en un marco de datos\n",
    "Notas = pd.read_csv(\"DataSetGrades/Notas.csv\")\n",
    "#Varios valores estadisticos\n",
    "print(Notas.describe())\n"
   ]
  }
 ],
 "metadata": {
  "kernelspec": {
   "display_name": "Python 3",
   "language": "python",
   "name": "python3"
  },
  "language_info": {
   "codemirror_mode": {
    "name": "ipython",
    "version": 3
   },
   "file_extension": ".py",
   "mimetype": "text/x-python",
   "name": "python",
   "nbconvert_exporter": "python",
   "pygments_lexer": "ipython3",
   "version": "3.10.6"
  },
  "orig_nbformat": 4
 },
 "nbformat": 4,
 "nbformat_minor": 2
}
