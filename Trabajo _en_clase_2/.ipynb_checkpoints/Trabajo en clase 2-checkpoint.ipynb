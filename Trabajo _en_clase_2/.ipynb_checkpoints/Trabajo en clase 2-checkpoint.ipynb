{
 "cells": [
  {
   "cell_type": "markdown",
   "id": "ef5347b9",
   "metadata": {},
   "source": [
    "## <div style=\"text-align: center\"> Área académica de Ingeniería en Computadores </div> \n",
    "\n",
    "## <div style=\"text-align: center\"> CE - 5506 Introducción al Reconocimiento de Patrones </div>\n",
    "\n",
    "## <div style=\"text-align: center\"> Trabajo en clase #2 </div>\n",
    "\n",
    "## <div style=\"text-align: left\"> Estudiantes: </div> <br> <div style=\"text-align:center\"> Agüero Sandí Johnny - 2020027766 </div>\n",
    "    \n",
    "## <div style=\"text-align: left\"> Profesor: </div> <br> <div style=\"text-align: center\"> Jason Leiton Jimenez <br><br> </div>\n",
    "\n",
    "## <div style=\"text-align: center\"> Grupo 1 </div>\n",
    "\n",
    "## <div style=\"text-align: center\"> IS $-$ 2023 </div>"
   ]
  },
  {
   "cell_type": "markdown",
   "id": "2b6f2164",
   "metadata": {},
   "source": [
    "---"
   ]
  },
  {
   "cell_type": "markdown",
   "id": "599da830",
   "metadata": {},
   "source": [
    "## <div style=\"text-align: center\"> Sección de código </div> "
   ]
  },
  {
   "cell_type": "code",
   "execution_count": 1,
   "id": "ec02809e",
   "metadata": {},
   "outputs": [],
   "source": [
    "from sklearn.metrics import accuracy_score, precision_score, recall_score, f1_score\n",
    "from sklearn.model_selection import train_test_split\n",
    "from sklearn.datasets import load_iris\n",
    "from matplotlib import pyplot as plt\n",
    "import pandas as pd\n",
    "import numpy as np\n",
    "import time"
   ]
  },
  {
   "cell_type": "code",
   "execution_count": 2,
   "id": "64de6f3c",
   "metadata": {},
   "outputs": [],
   "source": [
    "class PerceptronMulticapa:\n",
    "    def __init__(self, capas, func_activacion_in=\"sigmoide\", alpha=0.1):\n",
    "        self.capas = capas\n",
    "        self.alpha = alpha\n",
    "        self.func_activacion = func_activacion_in\n",
    "        self.bias = []\n",
    "        self.pesos = []\n",
    "        for i in range(0, len(capas) - 1):\n",
    "            # Inicializar los pesos y bias de cada capa\n",
    "            peso = np.random.randn(capas[i], capas[i+1])\n",
    "            self.pesos.append(peso)\n",
    "            bias = np.random.randn(capas[i+1])\n",
    "            self.bias.append(bias)\n",
    "\n",
    "    def activacion(self, x):\n",
    "        if(self.func_activacion == \"sigmoide\"):\n",
    "            # Función de activación sigmoide\n",
    "            return 1.0 / (1 + np.exp(-x))\n",
    "        elif(self.func_activacion == \"tanh\"):\n",
    "            # Función de activación tanh\n",
    "            return ((np.exp(x) - np.exp(-x)) / (np.exp(x) + np.exp(-x)))\n",
    "        elif(self.func_activacion == \"ReLU\"):\n",
    "            # Función de activación ReLU\n",
    "            return np.maximum(0.01 * x, x)\n",
    "        else:\n",
    "            # No especifica funcion de activacion\n",
    "            return 0\n",
    "\n",
    "    def activacion_derivada(self, x):\n",
    "        if(self.func_activacion == \"sigmoide\"):\n",
    "            # Derivada de la función de activación sigmoide\n",
    "            return x * (1 - x)\n",
    "        elif(self.func_activacion == \"tanh\"):\n",
    "            # Derivada de la función de activación tanh\n",
    "            exp_pos = np.exp(x)\n",
    "            exp_neg = np.exp(-x)\n",
    "            denominator = (exp_pos + exp_neg)\n",
    "            return 4 / (denominator * denominator)\n",
    "        elif(self.func_activacion == \"ReLU\"):\n",
    "            # Derivada de la función de activación ReLU\n",
    "            return np.where(x > 0, 1, 0.01)\n",
    "        else:\n",
    "            # No especifica funcion de activacion\n",
    "            return 0\n",
    "\n",
    "    def feedforward(self, X):\n",
    "        # Calcular la salida de cada capa\n",
    "        capa_activacion = [X]\n",
    "        for i in range(0, len(self.capas) - 1):\n",
    "            x = np.dot(capa_activacion[i], self.pesos[i]) + self.bias[i]\n",
    "            y = self.activacion(x)\n",
    "            capa_activacion.append(y)\n",
    "        return capa_activacion\n",
    "\n",
    "    def backpropagation(self, X, y, capa_activacion):\n",
    "        # Calcular el error de la capa de salida\n",
    "        error = capa_activacion[-1] - y\n",
    "        delta = error * self.activacion_derivada(capa_activacion[-1])\n",
    "        \n",
    "        # Propagar el error hacia atrás a través de la red neuronal\n",
    "        for i in reversed(range(0, len(self.capas) - 1)):\n",
    "            activacion_actual = capa_activacion[i]\n",
    "            activacion_anterior = capa_activacion[i-1] if i > 0 else X\n",
    "            d_peso = np.outer(activacion_anterior, delta)\n",
    "            d_bias = delta\n",
    "            self.pesos[i] -= self.alpha * d_peso\n",
    "            self.bias[i] -= self.alpha * d_bias\n",
    "            delta = np.dot(delta, self.pesos[i].T) * self.activacion_derivada(activacion_actual)\n",
    "\n",
    "    def entrenar(self, X, y, epochs):\n",
    "        for epoch in range(0, epochs):\n",
    "            for i in range(0, len(X)):\n",
    "                # Feedforward\n",
    "                capa_activacion = self.feedforward(X[i])\n",
    "\n",
    "                # Backpropagation\n",
    "                self.backpropagation(X[i], y[i], capa_activacion)\n",
    "\n",
    "    def predecir(self, X):\n",
    "        # Obtener la salida de la última capa\n",
    "        capa_activacion = self.feedforward(X)\n",
    "        return capa_activacion[-1]"
   ]
  },
  {
   "cell_type": "code",
   "execution_count": 58,
   "id": "27b1be10",
   "metadata": {},
   "outputs": [],
   "source": [
    "# Cargar el conjunto de datos Iris\n",
    "iris = load_iris()\n",
    "X = iris.data\n",
    "y = iris.target\n",
    "\n",
    "# Dividir el conjunto de datos en entrenamiento y prueba\n",
    "X_entrenamiento, X_prueba, y_entrenamiento, y_prueba = train_test_split(X, y, test_size=0.2, random_state=42, stratify=y)\n",
    "\n",
    "#mu = np.mean(X, 0)\n",
    "#sigma = np.std(X, 0)\n",
    "#X = (X - mu ) / sigma\n",
    "\n",
    "X = X / np.linalg.norm(X, axis=1, keepdims=True)"
   ]
  },
  {
   "cell_type": "markdown",
   "id": "6b3864c9",
   "metadata": {},
   "source": [
    "## <div style=\"text-align: center\"> I Parte <br> --- <br> Verificando el comportamiento de las funciones de activación </div> "
   ]
  },
  {
   "cell_type": "markdown",
   "id": "233bfcad",
   "metadata": {},
   "source": [
    "###  1) Ejecute el código con un α = 0,15 y con epochs = 3000"
   ]
  },
  {
   "cell_type": "code",
   "execution_count": 13,
   "id": "f7892067",
   "metadata": {
    "scrolled": true
   },
   "outputs": [
    {
     "name": "stdout",
     "output_type": "stream",
     "text": [
      "Predicciones:  [0, 2, 1, 1, 0, 1, 0, 0, 2, 1, 2, 2, 2, 1, 0, 0, 0, 1, 1, 2, 0, 2, 1, 2, 2, 1, 1, 0, 2, 0]\n",
      "Y_Real      :  [0 2 1 1 0 1 0 0 2 1 2 2 2 1 0 0 0 1 1 2 0 2 1 2 2 1 1 0 2 0]\n",
      "Accuracy: 1.0\n",
      "Precisión: 1.0\n",
      "Recall: 1.0\n",
      "F1 Score: 1.0\n",
      "Time: 10.950309991836548\n"
     ]
    }
   ],
   "source": [
    "# Crear y entrenar el perceptrón multicapa sigmoide\n",
    "start_time_sigmoide = time.time()\n",
    "perceptron_sigmoide = PerceptronMulticapa(capas=[4,4,4,3], func_activacion_in=\"sigmoide\", alpha=0.15)\n",
    "perceptron_sigmoide.entrenar(X_entrenamiento, np.eye(3)[y_entrenamiento], epochs=3000)\n",
    "end_time_sigmoide = time.time()\n",
    "\n",
    "# Hacer predicciones sobre el conjunto de prueba\n",
    "predicciones_sigmoide = []\n",
    "for i in range(len(X_prueba)):\n",
    "    prediccion_sigmoide = perceptron_sigmoide.predecir(X_prueba[i])\n",
    "    prediccion_sigmoide_clase = np.argmax(prediccion_sigmoide)\n",
    "    predicciones_sigmoide.append(prediccion_sigmoide_clase)\n",
    "\n",
    "\n",
    "# Accuracy\n",
    "accuracy_sigmoide = accuracy_score(y_prueba, predicciones_sigmoide)\n",
    "\n",
    "# Precision\n",
    "precision_sigmoide = precision_score(y_prueba, predicciones_sigmoide, average='weighted', zero_division=1)\n",
    "\n",
    "# Recall\n",
    "recall_sigmoide = recall_score(y_prueba, predicciones_sigmoide, average='weighted', zero_division=1)\n",
    "\n",
    "# Calcular la métrica F1\n",
    "f1_sigmoide = f1_score(y_prueba, predicciones_sigmoide, average='weighted')\n",
    "\n",
    "# Time\n",
    "elapsed_time_sigmoide = end_time_sigmoide - start_time_sigmoide\n",
    "\n",
    "# Calcular de las predicciones\n",
    "print(\"Predicciones: \", predicciones_sigmoide)\n",
    "print(\"Y_Real      : \", y_prueba)\n",
    "print(f\"Accuracy: {accuracy_sigmoide}\")\n",
    "print(f\"Precisión: {precision_sigmoide}\")\n",
    "print(f\"Recall: {recall_sigmoide}\")\n",
    "print(f\"F1 Score: {f1_sigmoide}\")\n",
    "print(f\"Time: {elapsed_time_sigmoide}\")"
   ]
  },
  {
   "cell_type": "markdown",
   "id": "894d6558",
   "metadata": {},
   "source": [
    "###  2) Implemente la función de activación tanh y ReLU. Para cada una de ellas ejecute el modelo y obtenga las métricas."
   ]
  },
  {
   "cell_type": "code",
   "execution_count": 14,
   "id": "202a4bbf",
   "metadata": {},
   "outputs": [
    {
     "name": "stdout",
     "output_type": "stream",
     "text": [
      "Predicciones:  [0, 2, 1, 1, 0, 2, 0, 0, 2, 2, 2, 2, 2, 2, 0, 0, 0, 1, 2, 2, 0, 2, 2, 1, 2, 2, 2, 0, 2, 0]\n",
      "Y_Real      :  [0 2 1 1 0 1 0 0 2 1 2 2 2 1 0 0 0 1 1 2 0 2 1 2 2 1 1 0 2 0]\n",
      "Accuracy: 0.7333333333333333\n",
      "Precisión: 0.7708333333333334\n",
      "Recall: 0.7333333333333333\n",
      "F1 Score: 0.7069597069597069\n",
      "Time: 5.459414958953857\n"
     ]
    }
   ],
   "source": [
    "# Crear y entrenar el perceptrón multicapa tanh\n",
    "start_time_tanh = time.time()\n",
    "perceptron_tanh = PerceptronMulticapa(capas=[4,3], func_activacion_in=\"tanh\", alpha=0.15)\n",
    "perceptron_tanh.entrenar(X_entrenamiento, np.eye(3)[y_entrenamiento], epochs=3000)\n",
    "end_time_tanh = time.time()\n",
    "\n",
    "# Hacer predicciones sobre el conjunto de prueba\n",
    "predicciones_tanh = []\n",
    "for i in range(len(X_prueba)):\n",
    "    prediccion_tanh = perceptron_tanh.predecir(X_prueba[i])\n",
    "    prediccion_tanh_clase = np.argmax(prediccion_tanh)\n",
    "    predicciones_tanh.append(prediccion_tanh_clase)\n",
    "\n",
    "\n",
    "# Accuracy\n",
    "accuracy_tanh = accuracy_score(y_prueba, predicciones_tanh)\n",
    "\n",
    "# Precision\n",
    "precision_tanh = precision_score(y_prueba, predicciones_tanh, average='weighted', zero_division=1)\n",
    "\n",
    "# Recall\n",
    "recall_tanh = recall_score(y_prueba, predicciones_tanh, average='weighted', zero_division=1)\n",
    "\n",
    "# Calcular la métrica F1\n",
    "f1_tanh = f1_score(y_prueba, predicciones_tanh, average='weighted')\n",
    "\n",
    "# Time\n",
    "elapsed_time_tanh = end_time_tanh - start_time_tanh\n",
    "\n",
    "# Calcular de las predicciones\n",
    "print(\"Predicciones: \", predicciones_tanh)\n",
    "print(\"Y_Real      : \", y_prueba)\n",
    "print(f\"Accuracy: {accuracy_tanh}\")\n",
    "print(f\"Precisión: {precision_tanh}\")\n",
    "print(f\"Recall: {recall_tanh}\")\n",
    "print(f\"F1 Score: {f1_tanh}\")\n",
    "print(f\"Time: {elapsed_time_tanh}\")"
   ]
  },
  {
   "cell_type": "code",
   "execution_count": 15,
   "id": "cbfbae9e",
   "metadata": {},
   "outputs": [
    {
     "name": "stdout",
     "output_type": "stream",
     "text": [
      "Predicciones:  [0, 2, 1, 1, 0, 2, 0, 0, 2, 2, 2, 2, 2, 2, 0, 0, 0, 1, 2, 2, 0, 2, 1, 1, 2, 2, 2, 0, 2, 0]\n",
      "Y_Real      :  [0 2 1 1 0 1 0 0 2 1 2 2 2 1 0 0 0 1 1 2 0 2 1 2 2 1 1 0 2 0]\n",
      "Accuracy: 0.7666666666666667\n",
      "Precisión: 0.8\n",
      "Recall: 0.7666666666666667\n",
      "F1 Score: 0.7511111111111111\n",
      "Time: 4.806940078735352\n"
     ]
    }
   ],
   "source": [
    "# Crear y entrenar el perceptrón multicapa sigmoide\n",
    "start_time_ReLU = time.time()\n",
    "perceptron_ReLU = PerceptronMulticapa(capas=[4,3], func_activacion_in=\"ReLU\", alpha=0.15)\n",
    "perceptron_ReLU.entrenar(X_entrenamiento, np.eye(3)[y_entrenamiento], epochs=3000)\n",
    "end_time_ReLU = time.time()\n",
    "\n",
    "# Hacer predicciones sobre el conjunto de prueba\n",
    "predicciones_ReLU = []\n",
    "for i in range(len(X_prueba)):\n",
    "    prediccion_ReLU = perceptron_ReLU.predecir(X_prueba[i])\n",
    "    prediccion_ReLU_clase = np.argmax(prediccion_ReLU)\n",
    "    predicciones_ReLU.append(prediccion_ReLU_clase)\n",
    "\n",
    "\n",
    "# Accuracy\n",
    "accuracy_ReLU = accuracy_score(y_prueba, predicciones_ReLU)\n",
    "\n",
    "# Precision\n",
    "precision_ReLU = precision_score(y_prueba, predicciones_ReLU, average='weighted', zero_division=1)\n",
    "\n",
    "# Recall\n",
    "recall_ReLU = recall_score(y_prueba, predicciones_ReLU, average='weighted', zero_division=1)\n",
    "\n",
    "# Calcular la métrica F1\n",
    "f1_ReLU = f1_score(y_prueba, predicciones_ReLU, average='weighted')\n",
    "\n",
    "# Time\n",
    "elapsed_time_ReLU = end_time_ReLU - start_time_ReLU\n",
    "\n",
    "# Calcular de las predicciones\n",
    "print(\"Predicciones: \", predicciones_ReLU)\n",
    "print(\"Y_Real      : \", y_prueba)\n",
    "print(f\"Accuracy: {accuracy_ReLU}\")\n",
    "print(f\"Precisión: {precision_ReLU}\")\n",
    "print(f\"Recall: {recall_ReLU}\")\n",
    "print(f\"F1 Score: {f1_ReLU}\")\n",
    "print(f\"Time: {elapsed_time_ReLU}\")"
   ]
  },
  {
   "cell_type": "markdown",
   "id": "2840f516",
   "metadata": {},
   "source": [
    "### 3) Ajuste los parámetros de epochs y α para mejorar los valores de las métricas."
   ]
  },
  {
   "cell_type": "markdown",
   "id": "bd7833bd",
   "metadata": {},
   "source": [
    "##### Dado que en el caso de la función Sigmoide se obtuvo una presión del 100%, no se mejoran las métricas puesto que no se pueden mejorar."
   ]
  },
  {
   "cell_type": "code",
   "execution_count": 17,
   "id": "11144c03",
   "metadata": {},
   "outputs": [
    {
     "name": "stdout",
     "output_type": "stream",
     "text": [
      "Predicciones:  [0, 2, 1, 1, 0, 2, 0, 0, 2, 1, 1, 2, 2, 1, 0, 0, 0, 1, 1, 2, 0, 2, 1, 1, 2, 1, 1, 0, 1, 0]\n",
      "Y_Real      :  [0 2 1 1 0 1 0 0 2 1 2 2 2 1 0 0 0 1 1 2 0 2 1 2 2 1 1 0 2 0]\n",
      "Accuracy: 0.8666666666666667\n",
      "Precisión: 0.875\n",
      "Recall: 0.8666666666666667\n",
      "F1 Score: 0.8653198653198653\n",
      "Time: 18.190706968307495\n"
     ]
    }
   ],
   "source": [
    "# Crear y entrenar el perceptrón multicapa tanh\n",
    "start_time_tanh = time.time()\n",
    "perceptron_tanh = PerceptronMulticapa(capas=[4,3], func_activacion_in=\"tanh\", alpha=0.01)\n",
    "perceptron_tanh.entrenar(X_entrenamiento, np.eye(3)[y_entrenamiento], epochs=10000)\n",
    "end_time_tanh = time.time()\n",
    "\n",
    "# Hacer predicciones sobre el conjunto de prueba\n",
    "predicciones_tanh = []\n",
    "for i in range(len(X_prueba)):\n",
    "    prediccion_tanh = perceptron_tanh.predecir(X_prueba[i])\n",
    "    prediccion_tanh_clase = np.argmax(prediccion_tanh)\n",
    "    predicciones_tanh.append(prediccion_tanh_clase)\n",
    "\n",
    "\n",
    "# Accuracy\n",
    "accuracy_tanh = accuracy_score(y_prueba, predicciones_tanh)\n",
    "\n",
    "# Precision\n",
    "precision_tanh = precision_score(y_prueba, predicciones_tanh, average='weighted', zero_division=1)\n",
    "\n",
    "# Recall\n",
    "recall_tanh = recall_score(y_prueba, predicciones_tanh, average='weighted', zero_division=1)\n",
    "\n",
    "# Calcular la métrica F1\n",
    "f1_tanh = f1_score(y_prueba, predicciones_tanh, average='weighted')\n",
    "\n",
    "# Time\n",
    "elapsed_time_tanh = end_time_tanh - start_time_tanh\n",
    "\n",
    "# Calcular de las predicciones\n",
    "print(\"Predicciones: \", predicciones_tanh)\n",
    "print(\"Y_Real      : \", y_prueba)\n",
    "print(f\"Accuracy: {accuracy_tanh}\")\n",
    "print(f\"Precisión: {precision_tanh}\")\n",
    "print(f\"Recall: {recall_tanh}\")\n",
    "print(f\"F1 Score: {f1_tanh}\")\n",
    "print(f\"Time: {elapsed_time_tanh}\")"
   ]
  },
  {
   "cell_type": "code",
   "execution_count": 18,
   "id": "21727621",
   "metadata": {},
   "outputs": [
    {
     "name": "stdout",
     "output_type": "stream",
     "text": [
      "Predicciones:  [0, 2, 1, 1, 0, 2, 0, 0, 2, 1, 2, 2, 2, 2, 0, 0, 0, 1, 1, 2, 0, 2, 1, 1, 2, 2, 2, 0, 2, 0]\n",
      "Y_Real      :  [0 2 1 1 0 1 0 0 2 1 2 2 2 1 0 0 0 1 1 2 0 2 1 2 2 1 1 0 2 0]\n",
      "Accuracy: 0.8333333333333334\n",
      "Precisión: 0.8498168498168498\n",
      "Recall: 0.8333333333333334\n",
      "F1 Score: 0.8294970161977834\n",
      "Time: 15.627771615982056\n"
     ]
    }
   ],
   "source": [
    "# Crear y entrenar el perceptrón multicapa sigmoide\n",
    "start_time_ReLU = time.time()\n",
    "perceptron_ReLU = PerceptronMulticapa(capas=[4,3], func_activacion_in=\"ReLU\", alpha=0.01)\n",
    "perceptron_ReLU.entrenar(X_entrenamiento, np.eye(3)[y_entrenamiento], epochs=10000)\n",
    "end_time_ReLU = time.time()\n",
    "\n",
    "# Hacer predicciones sobre el conjunto de prueba\n",
    "predicciones_ReLU = []\n",
    "for i in range(len(X_prueba)):\n",
    "    prediccion_ReLU = perceptron_ReLU.predecir(X_prueba[i])\n",
    "    prediccion_ReLU_clase = np.argmax(prediccion_ReLU)\n",
    "    predicciones_ReLU.append(prediccion_ReLU_clase)\n",
    "\n",
    "\n",
    "# Accuracy\n",
    "accuracy_ReLU = accuracy_score(y_prueba, predicciones_ReLU)\n",
    "\n",
    "# Precision\n",
    "precision_ReLU = precision_score(y_prueba, predicciones_ReLU, average='weighted', zero_division=1)\n",
    "\n",
    "# Recall\n",
    "recall_ReLU = recall_score(y_prueba, predicciones_ReLU, average='weighted', zero_division=1)\n",
    "\n",
    "# Calcular la métrica F1\n",
    "f1_ReLU = f1_score(y_prueba, predicciones_ReLU, average='weighted')\n",
    "\n",
    "# Time\n",
    "elapsed_time_ReLU = end_time_ReLU - start_time_ReLU\n",
    "\n",
    "# Calcular de las predicciones\n",
    "print(\"Predicciones: \", predicciones_ReLU)\n",
    "print(\"Y_Real      : \", y_prueba)\n",
    "print(f\"Accuracy: {accuracy_ReLU}\")\n",
    "print(f\"Precisión: {precision_ReLU}\")\n",
    "print(f\"Recall: {recall_ReLU}\")\n",
    "print(f\"F1 Score: {f1_ReLU}\")\n",
    "print(f\"Time: {elapsed_time_ReLU}\")"
   ]
  },
  {
   "cell_type": "markdown",
   "id": "45fed51a",
   "metadata": {},
   "source": [
    "### 4) Determine cuál función de activación arrojó mejores resultados"
   ]
  },
  {
   "cell_type": "markdown",
   "id": "9146442f",
   "metadata": {},
   "source": [
    "#### La función de activación que arrojó los mejores resultados es la sigmoide, dado que como se pudo apreciar con pocas iteraciones logró obtener una presión de 1 y con un tiempo más pequeño que las demás funciones"
   ]
  },
  {
   "cell_type": "markdown",
   "id": "30515170",
   "metadata": {},
   "source": [
    "## <div style=\"text-align: center\"> II Parte <br> --- <br> Mejor resultado utilizando la biblioteca sklearn. Utilizando Gridsearch para encontrar los parámetros </div> "
   ]
  },
  {
   "cell_type": "code",
   "execution_count": 8,
   "id": "b2736d6b",
   "metadata": {},
   "outputs": [],
   "source": [
    "from sklearn.neural_network import MLPClassifier\n",
    "from sklearn.model_selection import GridSearchCV\n",
    "from sklearn.metrics import confusion_matrix"
   ]
  },
  {
   "cell_type": "code",
   "execution_count": 10,
   "id": "6acc8260",
   "metadata": {},
   "outputs": [
    {
     "name": "stdout",
     "output_type": "stream",
     "text": [
      "Best Parameters:  {'activation': 'tanh', 'hidden_layer_sizes': (30, 30), 'max_iter': 3000, 'solver': 'sgd'}\n",
      "Predictions:  [0 2 1 1 0 1 0 0 2 1 2 2 2 1 0 0 0 1 1 2 0 2 1 2 2 1 1 0 2 0]\n",
      "Real Values:  [0 2 1 1 0 1 0 0 2 1 2 2 2 1 0 0 0 1 1 2 0 2 1 2 2 1 1 0 2 0]\n",
      "Accuracy: 1.00\n",
      "Precision: 1.00\n",
      "Recall: 1.00\n",
      "F1 Score: 1.00\n",
      "Time: 0.23\n"
     ]
    },
    {
     "data": {
      "text/plain": [
       "array([[10,  0,  0],\n",
       "       [ 0, 10,  0],\n",
       "       [ 0,  0, 10]], dtype=int64)"
      ]
     },
     "execution_count": 10,
     "metadata": {},
     "output_type": "execute_result"
    }
   ],
   "source": [
    "# Definir los parámetros que quieres probar en la búsqueda de cuadrícula\n",
    "param_grid = {\n",
    "    'hidden_layer_sizes': [(10, 10), (20, 20), (30,30)],\n",
    "    'activation': ['relu', 'tanh'],\n",
    "    'max_iter': [3000, 5000, 10000],\n",
    "    'solver': ['sgd']\n",
    "}\n",
    "\n",
    "# Crear el estimador del modelo MLPClassifier\n",
    "model = MLPClassifier(random_state=42)\n",
    "\n",
    "# Realizar la búsqueda de cuadrícula\n",
    "grid_search = GridSearchCV(estimator=model, param_grid=param_grid, scoring='accuracy', cv=5)\n",
    "grid_search.fit(X_entrenamiento, y_entrenamiento)\n",
    "\n",
    "# Obtener los mejores parámetros encontrados\n",
    "best_params = grid_search.best_params_\n",
    "\n",
    "# Crear un nuevo modelo con los mejores parámetros\n",
    "best_model = MLPClassifier(**best_params, random_state=42)\n",
    "\n",
    "# Entrenar el modelo con los datos de entrenamiento\n",
    "start_time_ReLU_sk = time.time()\n",
    "best_model.fit(X_entrenamiento, y_entrenamiento)\n",
    "end_time_ReLU_sk = time.time()\n",
    "\n",
    "# Obtener las predicciones con el mejor modelo\n",
    "y_pred_best = best_model.predict(X_prueba)\n",
    "\n",
    "# Calcular las métricas de evaluación\n",
    "accuracy = accuracy_score(y_prueba, y_pred_best)\n",
    "precision = precision_score(y_prueba, y_pred_best, average='weighted', zero_division=1)\n",
    "recall = recall_score(y_prueba, y_pred_best, average='weighted', zero_division=1)\n",
    "f1 = f1_score(y_prueba, y_pred_best, average='weighted')\n",
    "elapsed_time_ReLU_sk = end_time_ReLU_sk - start_time_ReLU_sk\n",
    "\n",
    "# Imprimir los resultados\n",
    "print(\"Best Parameters: \", best_params)\n",
    "print(\"Predictions: \", y_pred_best)\n",
    "print(\"Real Values: \", y_prueba)\n",
    "print(\"Accuracy: {:.2f}\".format(accuracy))\n",
    "print(\"Precision: {:.2f}\".format(precision))\n",
    "print(\"Recall: {:.2f}\".format(recall))\n",
    "print(\"F1 Score: {:.2f}\".format(f1))\n",
    "print(\"Time: {:.2f}\".format(elapsed_time_ReLU_sk))\n",
    "\n",
    "confusion_matrix(y_prueba, y_pred_best)"
   ]
  },
  {
   "cell_type": "markdown",
   "id": "ed70dc8b",
   "metadata": {},
   "source": [
    "## <div style=\"text-align: center\"> III Parte <br> --- <br> Creando una red específica </div> "
   ]
  },
  {
   "cell_type": "markdown",
   "id": "ef947d3b",
   "metadata": {},
   "source": [
    "### 1) Modifique el código proporcionado ( la sección de código ) para que la red pueda tener capas ocultas de diferentes tamaños."
   ]
  },
  {
   "cell_type": "code",
   "execution_count": 41,
   "id": "4cb2bebc",
   "metadata": {},
   "outputs": [],
   "source": [
    "class PerceptronMulticapa_Modificado:\n",
    "    def __init__(self, capas, func_activacion_in=\"sigmoide\", alpha=0.1):\n",
    "        self.capas = capas\n",
    "        self.alpha = alpha\n",
    "        self.func_activacion = func_activacion_in\n",
    "        self.bias = []\n",
    "        self.pesos = []\n",
    "        # Inicializar los pesos y bias de cada capa\n",
    "        for i in range(0, len(capas) - 1):\n",
    "            peso = np.random.randn(capas[i], capas[i+1])\n",
    "            self.pesos.append(peso)\n",
    "            bias = np.random.randn(capas[i+1])\n",
    "            self.bias.append(bias)\n",
    "\n",
    "    def activacion(self, x):\n",
    "        if self.func_activacion == \"sigmoide\":\n",
    "            return 1.0 / (1 + np.exp(-x))\n",
    "        elif self.func_activacion == \"tanh\":\n",
    "            return np.tanh(x)\n",
    "        elif self.func_activacion == \"ReLU\":\n",
    "            return np.maximum(0.01 * x, x)\n",
    "        else:\n",
    "            return 0\n",
    "\n",
    "    def activacion_derivada(self, x):\n",
    "        if self.func_activacion == \"sigmoide\":\n",
    "            return x * (1 - x)\n",
    "        elif self.func_activacion == \"tanh\":\n",
    "            return 1 - x**2\n",
    "        elif self.func_activacion == \"ReLU\":\n",
    "            return np.where(x > 0, 1, 0.01)\n",
    "        else:\n",
    "            return 0\n",
    "\n",
    "    def feedforward(self, X):\n",
    "        capa_activacion = [X]\n",
    "        for i in range(0, len(self.capas) - 1):\n",
    "            x = np.dot(capa_activacion[i], self.pesos[i]) + self.bias[i]\n",
    "            y = self.activacion(x)\n",
    "            capa_activacion.append(y)\n",
    "        return capa_activacion\n",
    "\n",
    "    def backpropagation(self, X, y, capa_activacion):\n",
    "        error = capa_activacion[-1] - y\n",
    "        delta = error * self.activacion_derivada(capa_activacion[-1])\n",
    "\n",
    "        for i in reversed(range(0, len(self.capas) - 1)):\n",
    "            activacion_actual = capa_activacion[i + 1]\n",
    "            activacion_anterior = capa_activacion[i]\n",
    "            d_peso = np.outer(activacion_anterior, delta)\n",
    "            d_bias = delta\n",
    "            self.pesos[i] -= self.alpha * d_peso\n",
    "            self.bias[i] -= self.alpha * d_bias\n",
    "            delta = np.dot(delta, self.pesos[i].T) * self.activacion_derivada(activacion_anterior)\n",
    "\n",
    "\n",
    "    def entrenar(self, X, y, epochs):\n",
    "        for epoch in range(0, epochs):\n",
    "            for i in range(0, len(X)):\n",
    "                capa_activacion = self.feedforward(X[i])\n",
    "                self.backpropagation(X[i], y[i], capa_activacion)\n",
    "\n",
    "    def predecir(self, X):\n",
    "        capa_activacion = self.feedforward(X)\n",
    "        return capa_activacion[-1]"
   ]
  },
  {
   "cell_type": "markdown",
   "id": "0c7a64bc",
   "metadata": {},
   "source": [
    "##### Ahora la clase PerceptronMulticapa_Modidicado permite tener capas ocultas de diferentes tamaños. Puedes crear una instancia de la clase con una lista de capas especificando el tamaño de cada capa. \n",
    "\n",
    "##### Por ejemplo, para crear una red con una capa de entrada de tamaño 2, una capa oculta de tamaño 3, otra capa oculta de tamaño 6 y una capa de salida de tamaño 1, puedes hacer lo siguiente:"
   ]
  },
  {
   "cell_type": "code",
   "execution_count": 29,
   "id": "7eaafa7b",
   "metadata": {},
   "outputs": [],
   "source": [
    "red_neuronal = PerceptronMulticapa_Modificado([2, 3, 6, 1])"
   ]
  },
  {
   "cell_type": "markdown",
   "id": "d41d66f9",
   "metadata": {},
   "source": [
    "### 2) Cree una red neuronal como la que se muestra en la figura 1 y obtenga las métricas de: recall, precision, accuracy y F1."
   ]
  },
  {
   "cell_type": "code",
   "execution_count": 59,
   "id": "51ab6fdd",
   "metadata": {},
   "outputs": [
    {
     "name": "stdout",
     "output_type": "stream",
     "text": [
      "(120, 4)\n",
      "(30, 4)\n",
      "(120,)\n",
      "(30,)\n"
     ]
    }
   ],
   "source": [
    "print(X_entrenamiento.shape)\n",
    "print(X_prueba.shape)\n",
    "\n",
    "print(y_entrenamiento.shape)\n",
    "print(y_prueba.shape)"
   ]
  },
  {
   "cell_type": "code",
   "execution_count": 70,
   "id": "7c89f5dd",
   "metadata": {
    "scrolled": false
   },
   "outputs": [
    {
     "name": "stdout",
     "output_type": "stream",
     "text": [
      "Predicciones:  [0, 1, 1, 1, 0, 1, 0, 0, 1, 1, 1, 1, 1, 1, 0, 0, 0, 1, 1, 1, 0, 1, 1, 1, 1, 1, 1, 0, 1, 0]\n",
      "Y_Real      :  [0 2 1 1 0 1 0 0 2 1 2 2 2 1 0 0 0 1 1 2 0 2 1 2 2 1 1 0 2 0]\n",
      "Accuracy: 0.6666666666666666\n",
      "Precisión: 0.8333333333333334\n",
      "Recall: 0.6666666666666666\n",
      "F1 Score: 0.5555555555555555\n",
      "Time: 18.317075967788696\n"
     ]
    }
   ],
   "source": [
    "# Crear y entrenar el perceptrón multicapa sigmoide\n",
    "start_time_modificado = time.time()\n",
    "perceptron_modificado = PerceptronMulticapa_Modificado(capas=[4,8,5,3], func_activacion_in=\"sigmoide\", alpha=0.55)\n",
    "perceptron_modificado.entrenar(X_entrenamiento, y_entrenamiento, epochs=2000)\n",
    "end_time_modificado = time.time()\n",
    "\n",
    "# Hacer predicciones sobre el conjunto de prueba\n",
    "predicciones_modificado = []\n",
    "for i in range(len(X_prueba)):\n",
    "    prediccion_modificado = perceptron_modificado.predecir(X_prueba[i])\n",
    "    prediccion_modificado_clase = np.argmax(prediccion_modificado)\n",
    "    predicciones_modificado.append(prediccion_modificado_clase)\n",
    "\n",
    "\n",
    "print(\"Predicciones: \", predicciones_modificado)\n",
    "print(\"Y_Real      : \", y_prueba)\n",
    "    \n",
    "# Accuracy\n",
    "accuracy_modificado = accuracy_score(y_prueba, predicciones_modificado)\n",
    "\n",
    "# Precision\n",
    "precision_modificado = precision_score(y_prueba, predicciones_modificado, average='weighted', zero_division=1)\n",
    "\n",
    "# Recall\n",
    "recall_modificado = recall_score(y_prueba, predicciones_modificado, average='weighted', zero_division=1)\n",
    "\n",
    "# Calcular la métrica F1\n",
    "f1_modificado = f1_score(y_prueba, predicciones_modificado, average='weighted')\n",
    "\n",
    "# Time\n",
    "elapsed_time_modificado = end_time_modificado - start_time_modificado\n",
    "\n",
    "# Calcular de las predicciones\n",
    "print(f\"Accuracy: {accuracy_modificado}\")\n",
    "print(f\"Precisión: {precision_modificado}\")\n",
    "print(f\"Recall: {recall_modificado}\")\n",
    "print(f\"F1 Score: {f1_modificado}\")\n",
    "print(f\"Time: {elapsed_time_modificado}\")"
   ]
  },
  {
   "cell_type": "code",
   "execution_count": null,
   "id": "b1cf3726",
   "metadata": {},
   "outputs": [],
   "source": []
  }
 ],
 "metadata": {
  "kernelspec": {
   "display_name": "Python 3 (ipykernel)",
   "language": "python",
   "name": "python3"
  },
  "language_info": {
   "codemirror_mode": {
    "name": "ipython",
    "version": 3
   },
   "file_extension": ".py",
   "mimetype": "text/x-python",
   "name": "python",
   "nbconvert_exporter": "python",
   "pygments_lexer": "ipython3",
   "version": "3.10.11"
  }
 },
 "nbformat": 4,
 "nbformat_minor": 5
}
