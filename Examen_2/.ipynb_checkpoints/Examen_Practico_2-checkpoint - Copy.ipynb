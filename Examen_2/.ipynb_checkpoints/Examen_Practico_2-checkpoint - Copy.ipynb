{
 "cells": [
  {
   "cell_type": "markdown",
   "id": "129087fd",
   "metadata": {},
   "source": [
    "## <div style=\"text-align: center\"> Área académica de Ingeniería en Computadores </div> \n",
    "\n",
    "## <div style=\"text-align: center\"> CE - 5506 Introducción al Reconocimiento de Patrones </div>\n",
    "\n",
    "## <div style=\"text-align: center\"> Examen Practico #2 </div>\n",
    "\n",
    "## <div style=\"text-align: left\"> Estudiantes: </div> <br> <div style=\"text-align:center\"> Agüero Sandí Johnny - 2020027766 </div>\n",
    "    \n",
    "## <div style=\"text-align: left\"> Profesor: </div> <br> <div style=\"text-align: center\"> Jason Leiton Jimenez <br><br> </div>\n",
    "\n",
    "## <div style=\"text-align: center\"> Grupo 1 </div>\n",
    "\n",
    "## <div style=\"text-align: center\"> IS $-$ 2023 </div>"
   ]
  },
  {
   "cell_type": "markdown",
   "id": "736c4628",
   "metadata": {},
   "source": [
    "### Para esta sección se trabajará con el set de datos de diabetes de sklearn, el cual puede obtenerse con el método “load diabetes”. Para establecer la etiqueta se deberá elegir el valor de frontera de 150, es decir, si el target es mayor a 150 se considerará que tiene diabetes, de lo contrario no padece de diabetes."
   ]
  },
  {
   "cell_type": "code",
   "execution_count": 1,
   "id": "a5ed051a",
   "metadata": {},
   "outputs": [],
   "source": [
    "from sklearn.metrics import accuracy_score, precision_score, recall_score, f1_score\n",
    "from sklearn.model_selection import train_test_split, GridSearchCV\n",
    "from sklearn.base import BaseEstimator, ClassifierMixin\n",
    "from sklearn.preprocessing import MinMaxScaler\n",
    "from sklearn import datasets\n",
    "from matplotlib import pyplot as plt\n",
    "import pandas as pd\n",
    "import numpy as np\n",
    "import time"
   ]
  },
  {
   "cell_type": "code",
   "execution_count": 2,
   "id": "e76b8caf",
   "metadata": {},
   "outputs": [],
   "source": [
    "diabetes_X, diabetes_y = datasets.load_diabetes(return_X_y = True , as_frame = True)"
   ]
  },
  {
   "cell_type": "code",
   "execution_count": 3,
   "id": "05fd62c6",
   "metadata": {},
   "outputs": [
    {
     "name": "stdout",
     "output_type": "stream",
     "text": [
      "          age       sex       bmi        bp        s1        s2        s3   \n",
      "0    0.038076  0.050680  0.061696  0.021872 -0.044223 -0.034821 -0.043401  \\\n",
      "1   -0.001882 -0.044642 -0.051474 -0.026328 -0.008449 -0.019163  0.074412   \n",
      "2    0.085299  0.050680  0.044451 -0.005670 -0.045599 -0.034194 -0.032356   \n",
      "3   -0.089063 -0.044642 -0.011595 -0.036656  0.012191  0.024991 -0.036038   \n",
      "4    0.005383 -0.044642 -0.036385  0.021872  0.003935  0.015596  0.008142   \n",
      "..        ...       ...       ...       ...       ...       ...       ...   \n",
      "437  0.041708  0.050680  0.019662  0.059744 -0.005697 -0.002566 -0.028674   \n",
      "438 -0.005515  0.050680 -0.015906 -0.067642  0.049341  0.079165 -0.028674   \n",
      "439  0.041708  0.050680 -0.015906  0.017293 -0.037344 -0.013840 -0.024993   \n",
      "440 -0.045472 -0.044642  0.039062  0.001215  0.016318  0.015283 -0.028674   \n",
      "441 -0.045472 -0.044642 -0.073030 -0.081413  0.083740  0.027809  0.173816   \n",
      "\n",
      "           s4        s5        s6  \n",
      "0   -0.002592  0.019907 -0.017646  \n",
      "1   -0.039493 -0.068332 -0.092204  \n",
      "2   -0.002592  0.002861 -0.025930  \n",
      "3    0.034309  0.022688 -0.009362  \n",
      "4   -0.002592 -0.031988 -0.046641  \n",
      "..        ...       ...       ...  \n",
      "437 -0.002592  0.031193  0.007207  \n",
      "438  0.034309 -0.018114  0.044485  \n",
      "439 -0.011080 -0.046883  0.015491  \n",
      "440  0.026560  0.044529 -0.025930  \n",
      "441 -0.039493 -0.004222  0.003064  \n",
      "\n",
      "[442 rows x 10 columns]\n",
      "0      151.0\n",
      "1       75.0\n",
      "2      141.0\n",
      "3      206.0\n",
      "4      135.0\n",
      "       ...  \n",
      "437    178.0\n",
      "438    104.0\n",
      "439    132.0\n",
      "440    220.0\n",
      "441     57.0\n",
      "Name: target, Length: 442, dtype: float64\n"
     ]
    }
   ],
   "source": [
    "print(diabetes_X)\n",
    "print(diabetes_y)"
   ]
  },
  {
   "cell_type": "markdown",
   "id": "443c50db",
   "metadata": {},
   "source": [
    "# Primera parte"
   ]
  },
  {
   "cell_type": "markdown",
   "id": "e2e0add2",
   "metadata": {},
   "source": [
    "### 1) Realice una red fullyconnected, con 4 capas ocultas, cuyos tamaños son: 10,32,16,4. A estas capas se le deben de conectar la entrada y la salida. Para este punto, no se permite el uso de bibliotecas como sklearn o keras (o cualquier otra que implementen el modelo). Cabe destacar que la red debe de considerar el parámetro b (bias), así como el parámetro de la ReLu (prelu). Se requiere que la función de activación entre las capas ocultas sea prelu."
   ]
  },
  {
   "cell_type": "code",
   "execution_count": 4,
   "id": "d2d8355c",
   "metadata": {},
   "outputs": [],
   "source": [
    "class PerceptronMulticapa_Modificado:\n",
    "    def __init__(self, capas, func_activacion_in=[\"sigmoide\"], alpha=0.1):\n",
    "        self.capas = capas\n",
    "        self.alpha = alpha\n",
    "        self.func_activacion = func_activacion_in\n",
    "        self.bias = []\n",
    "        self.pesos = []\n",
    "        # Inicializar los pesos y bias de cada capa\n",
    "        for i in range(0, len(capas) - 1):\n",
    "            peso = np.random.randn(capas[i], capas[i+1])\n",
    "            self.pesos.append(peso)\n",
    "            bias = np.random.randn(capas[i+1])\n",
    "            self.bias.append(bias)\n",
    "\n",
    "    def activacion(self, x, i):\n",
    "        if self.func_activacion[i] == \"sigmoide\":\n",
    "            return 1.0 / (1 + np.exp(-x))\n",
    "        elif self.func_activacion[i] == \"tanh\":\n",
    "            return np.tanh(x)\n",
    "        elif self.func_activacion[i] == \"ReLU\":\n",
    "            return np.maximum(0.01 * x, x)\n",
    "        else:\n",
    "            return 0\n",
    "\n",
    "    def activacion_derivada(self, x , i):\n",
    "        if self.func_activacion[i] == \"sigmoide\":\n",
    "            return x * (1 - x)\n",
    "        elif self.func_activacion[i] == \"tanh\":\n",
    "            return 1 - x**2\n",
    "        elif self.func_activacion[i] == \"ReLU\":\n",
    "            return np.where(x > 0, 1, 0.0001)\n",
    "        else:\n",
    "            return 0\n",
    "\n",
    "    def feedforward(self, X):\n",
    "        capa_activacion = [X]\n",
    "        for i in range(0, len(self.capas) - 1):\n",
    "            x = np.dot(capa_activacion[i], self.pesos[i]) + self.bias[i]\n",
    "            y = self.activacion(x, i)\n",
    "            capa_activacion.append(y)\n",
    "        return capa_activacion\n",
    "\n",
    "    def backpropagation(self, X, y, capa_activacion):\n",
    "        error = capa_activacion[-1] - y\n",
    "        delta = error * self.activacion_derivada(capa_activacion[-1], -1)\n",
    "\n",
    "        for i in reversed(range(0, len(self.capas) - 1)):\n",
    "            activacion_actual = capa_activacion[i + 1]\n",
    "            activacion_anterior = capa_activacion[i]\n",
    "            d_peso = np.outer(activacion_anterior, delta)\n",
    "            d_bias = delta\n",
    "            self.pesos[i] -= self.alpha * d_peso\n",
    "            self.bias[i] -= self.alpha * d_bias\n",
    "            delta = np.dot(delta, self.pesos[i].T) * self.activacion_derivada(activacion_anterior, i)\n",
    "\n",
    "\n",
    "    def entrenar(self, X, y, epochs):\n",
    "        for epoch in range(0, epochs):\n",
    "            for i in range(0, len(X)):\n",
    "                capa_activacion = self.feedforward(X[i])\n",
    "                self.backpropagation(X[i], y[i], capa_activacion)\n",
    "\n",
    "    def predecir(self, X):\n",
    "        capa_activacion = self.feedforward(X)\n",
    "        return capa_activacion[-1]"
   ]
  },
  {
   "cell_type": "code",
   "execution_count": 5,
   "id": "f3c925a7",
   "metadata": {},
   "outputs": [
    {
     "name": "stdout",
     "output_type": "stream",
     "text": [
      "Total de capas: [10, 10, 32, 16, 4, 1]\n",
      "Funciones de activación por capa:  ['ReLU', 'ReLU', 'ReLU', 'ReLU', 'ReLU', 'ReLU']\n"
     ]
    }
   ],
   "source": [
    "capas_ocultas = [10, 32, 16, 4]    #capas ocultas\n",
    "capa_entrada = [10]\n",
    "capa_salida = [1]\n",
    "capas_totales = capa_entrada + capas_ocultas + capa_salida\n",
    "print(\"Total de capas:\", capas_totales)\n",
    "\n",
    "func_activacion = [\"ReLU\"]*len(capas_totales)\n",
    "print(\"Funciones de activación por capa: \", func_activacion)\n",
    "\n",
    "\n",
    "mlp = PerceptronMulticapa_Modificado(capas_totales, func_activacion_in=func_activacion, alpha=0.1)"
   ]
  },
  {
   "cell_type": "markdown",
   "id": "9bbe013e",
   "metadata": {},
   "source": [
    "### 2) Realice todo el proceso de feature engineering antes de entrenar la red. Obtenga el 80 % de los datos para entrenamiento."
   ]
  },
  {
   "cell_type": "code",
   "execution_count": 7,
   "id": "be08c601",
   "metadata": {},
   "outputs": [
    {
     "name": "stdout",
     "output_type": "stream",
     "text": [
      "[[0.66666667 1.         0.58264463 ... 0.28208745 0.562217   0.43939394]\n",
      " [0.48333333 0.         0.14876033 ... 0.14104372 0.22243673 0.16666667]\n",
      " [0.88333333 1.         0.51652893 ... 0.28208745 0.49657763 0.40909091]\n",
      " ...\n",
      " [0.68333333 1.         0.28512397 ... 0.24964739 0.30503001 0.56060606]\n",
      " [0.28333333 0.         0.49586777 ... 0.39351199 0.65702552 0.40909091]\n",
      " [0.28333333 0.         0.0661157  ... 0.14104372 0.46930394 0.51515152]]\n"
     ]
    }
   ],
   "source": [
    "# Imputar valores faltantes usando la media\n",
    "diabetes_X = diabetes_X.fillna(diabetes_X.mean())\n",
    "\n",
    "# Aplicar el escalado a las características numéricas\n",
    "scaler = MinMaxScaler()\n",
    "diabetes_X = scaler.fit_transform(diabetes_X)\n",
    "\n",
    "print(diabetes_X)"
   ]
  },
  {
   "cell_type": "code",
   "execution_count": 8,
   "id": "da8c3a13",
   "metadata": {},
   "outputs": [
    {
     "name": "stdout",
     "output_type": "stream",
     "text": [
      "346.0\n"
     ]
    }
   ],
   "source": [
    "print(max(diabetes_y))"
   ]
  },
  {
   "cell_type": "code",
   "execution_count": 9,
   "id": "8f91ce99",
   "metadata": {},
   "outputs": [
    {
     "name": "stdout",
     "output_type": "stream",
     "text": [
      "0      1\n",
      "1      0\n",
      "2      0\n",
      "3      1\n",
      "4      0\n",
      "      ..\n",
      "437    1\n",
      "438    0\n",
      "439    0\n",
      "440    1\n",
      "441    0\n",
      "Name: target, Length: 442, dtype: category\n",
      "Categories (2, int64): [0 < 1]\n"
     ]
    }
   ],
   "source": [
    "#Binarizar las etiquetas según el rango indicado\n",
    "normalized_y = pd.cut(diabetes_y, bins = [0, 150, 347], labels = [0, 1])\n",
    "print(normalized_y)"
   ]
  },
  {
   "cell_type": "code",
   "execution_count": 10,
   "id": "8751d9bf",
   "metadata": {},
   "outputs": [
    {
     "name": "stdout",
     "output_type": "stream",
     "text": [
      "353\n",
      "89\n"
     ]
    }
   ],
   "source": [
    "X_train, X_test, y_train, y_test = train_test_split(diabetes_X, normalized_y, test_size = 0.20, random_state = 10, stratify=normalized_y)\n",
    "y_train = y_train.to_numpy()\n",
    "y_test = y_test.to_numpy()\n",
    "print(len(X_train))\n",
    "print(len(X_test))"
   ]
  },
  {
   "cell_type": "markdown",
   "id": "e126455a",
   "metadata": {},
   "source": [
    "### 3) Obtenga los mejores parámetros (al menos el learning rate y epochs) para el modelo creado, utilizando alguna herramienta como gridsearch u optuna."
   ]
  },
  {
   "cell_type": "code",
   "execution_count": 12,
   "id": "37d740b5",
   "metadata": {
    "scrolled": false
   },
   "outputs": [
    {
     "name": "stderr",
     "output_type": "stream",
     "text": [
      "C:\\Users\\J. Zaet\\AppData\\Local\\Programs\\Python\\Python310\\lib\\site-packages\\numpy\\core\\numeric.py:942: RuntimeWarning: invalid value encountered in multiply\n",
      "  return multiply(a.ravel()[:, newaxis], b.ravel()[newaxis, :], out)\n",
      "C:\\Users\\J. Zaet\\AppData\\Local\\Programs\\Python\\Python310\\lib\\site-packages\\numpy\\core\\numeric.py:942: RuntimeWarning: invalid value encountered in multiply\n",
      "  return multiply(a.ravel()[:, newaxis], b.ravel()[newaxis, :], out)\n",
      "C:\\Users\\J. Zaet\\AppData\\Local\\Programs\\Python\\Python310\\lib\\site-packages\\numpy\\core\\numeric.py:942: RuntimeWarning: invalid value encountered in multiply\n",
      "  return multiply(a.ravel()[:, newaxis], b.ravel()[newaxis, :], out)\n"
     ]
    },
    {
     "name": "stdout",
     "output_type": "stream",
     "text": [
      "Mejores parámetros: {'alpha': 0.0001, 'epochs': 50}\n",
      "Mejor rendimiento: 0.550561797752809\n"
     ]
    }
   ],
   "source": [
    "# Definir los valores a probar para cada parámetro\n",
    "alpha_values = [0.0001, 0.001, 0.01, 0.1]\n",
    "epochs_values = [50, 100, 150, 200]\n",
    "\n",
    "best_score = 0\n",
    "best_params = {}\n",
    "\n",
    "# Iterar sobre todas las combinaciones de parámetros\n",
    "for alpha in alpha_values:\n",
    "    for epochs in epochs_values:\n",
    "        # Crear una instancia del modelo con los parámetros actuales\n",
    "        modelo = PerceptronMulticapa_Modificado(capas_totales, func_activacion_in=func_activacion, alpha=alpha)\n",
    "        \n",
    "        # Entrenar el modelo\n",
    "        modelo.entrenar(X_train, y_train, epochs=epochs)\n",
    "        \n",
    "        \n",
    "        # Realizar predicciones en el conjunto de prueba\n",
    "        predicciones = []\n",
    "        etiquetas_verdaderas = []\n",
    "\n",
    "        for i in range(0, len(X_test)):\n",
    "            predicciones.append(np.argmax(modelo.predecir(X_test[i])))\n",
    "            etiquetas_verdaderas.append(y_test[i])\n",
    "        \n",
    "        # Calcular el rendimiento del modelo (por ejemplo, precisión)\n",
    "        score = accuracy_score(etiquetas_verdaderas, predicciones)\n",
    "        \n",
    "        # Actualizar el mejor rendimiento y los mejores parámetros si se encuentra una mejor combinación\n",
    "        if score > best_score:\n",
    "            best_score = score\n",
    "            best_params = {'alpha': alpha, 'epochs': epochs}\n",
    "\n",
    "# Imprimir los mejores parámetros y el mejor rendimiento\n",
    "print(\"Mejores parámetros:\", best_params)\n",
    "print(\"Mejor rendimiento:\", best_score)\n"
   ]
  },
  {
   "cell_type": "markdown",
   "id": "173a08da",
   "metadata": {},
   "source": [
    "### 4) Realice el entrenamiento del modelo, de tal manera que se imprima el loss por cada epoch."
   ]
  },
  {
   "cell_type": "code",
   "execution_count": null,
   "id": "4d083e5c",
   "metadata": {},
   "outputs": [],
   "source": []
  },
  {
   "cell_type": "markdown",
   "id": "a2783dbb",
   "metadata": {},
   "source": [
    "### 5) Obtenga el accuracy y F1 final, así como el tiempo de ejecución."
   ]
  },
  {
   "cell_type": "code",
   "execution_count": null,
   "id": "d53e4f89",
   "metadata": {},
   "outputs": [],
   "source": []
  }
 ],
 "metadata": {
  "kernelspec": {
   "display_name": "Python 3 (ipykernel)",
   "language": "python",
   "name": "python3"
  },
  "language_info": {
   "codemirror_mode": {
    "name": "ipython",
    "version": 3
   },
   "file_extension": ".py",
   "mimetype": "text/x-python",
   "name": "python",
   "nbconvert_exporter": "python",
   "pygments_lexer": "ipython3",
   "version": "3.10.11"
  }
 },
 "nbformat": 4,
 "nbformat_minor": 5
}
