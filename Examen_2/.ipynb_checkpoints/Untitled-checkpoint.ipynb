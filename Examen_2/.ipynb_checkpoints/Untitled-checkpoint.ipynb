{
 "cells": [
  {
   "cell_type": "markdown",
   "id": "0b75a02b",
   "metadata": {},
   "source": [
    "## <div style=\"text-align: center\"> Área académica de Ingeniería en Computadores </div> \n",
    "\n",
    "## <div style=\"text-align: center\"> CE - 5506 Introducción al Reconocimiento de Patrones </div>\n",
    "\n",
    "## <div style=\"text-align: center\"> Examen Practico #2 </div>\n",
    "\n",
    "## <div style=\"text-align: left\"> Estudiantes: </div> <br> <div style=\"text-align:center\"> Agüero Sandí Johnny - 2020027766 </div>\n",
    "    \n",
    "## <div style=\"text-align: left\"> Profesor: </div> <br> <div style=\"text-align: center\"> Jason Leiton Jimenez <br><br> </div>\n",
    "\n",
    "## <div style=\"text-align: center\"> Grupo 1 </div>\n",
    "\n",
    "## <div style=\"text-align: center\"> IS $-$ 2023 </div>"
   ]
  },
  {
   "cell_type": "markdown",
   "id": "b62bcf62",
   "metadata": {},
   "source": [
    "## 1) Realice una red fullyconnected, con 4 capas ocultas, cuyos tamaños son: 10,32,16,4. A estas capas se le deben de conectar la entrada y la salida. Para este punto, no se permite el uso de bibliotecas como sklearn o keras (o cualquier otra que implementen el modelo). Cabe destacar que la red debe de considerar el parámetro b (bias), así como el parámetro de la ReLu (prelu). Se requiere que la función de activaci´on entre las capas ocultas sea prelu. (10 puntos) "
   ]
  },
  {
   "cell_type": "markdown",
   "id": "2dd6a55b",
   "metadata": {},
   "source": [
    "## 2) Realice todo el proceso de feature engineering antes de entrenar la red. Obtenga el 80 % de los datos para entrenamiento."
   ]
  },
  {
   "cell_type": "markdown",
   "id": "be27b210",
   "metadata": {},
   "source": [
    "## 3) btenga los mejores parmetros (al menos el learning rate y epochs) para el modelo creado, utilizando alguna herramienta como gridsearch u optuna."
   ]
  },
  {
   "cell_type": "markdown",
   "id": "e53cd834",
   "metadata": {},
   "source": [
    "## "
   ]
  },
  {
   "cell_type": "markdown",
   "id": "b5aafc43",
   "metadata": {},
   "source": [
    "## "
   ]
  }
 ],
 "metadata": {
  "kernelspec": {
   "display_name": "Python 3 (ipykernel)",
   "language": "python",
   "name": "python3"
  },
  "language_info": {
   "codemirror_mode": {
    "name": "ipython",
    "version": 3
   },
   "file_extension": ".py",
   "mimetype": "text/x-python",
   "name": "python",
   "nbconvert_exporter": "python",
   "pygments_lexer": "ipython3",
   "version": "3.10.11"
  }
 },
 "nbformat": 4,
 "nbformat_minor": 5
}
