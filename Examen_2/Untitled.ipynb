{
 "cells": [
  {
   "cell_type": "markdown",
   "id": "37ab7df9",
   "metadata": {},
   "source": [
    "## <div style=\"text-align: center\"> Área académica de Ingeniería en Computadores </div> \n",
    "\n",
    "## <div style=\"text-align: center\"> CE - 5506 Introducción al Reconocimiento de Patrones </div>\n",
    "\n",
    "## <div style=\"text-align: center\"> Examen Practico #2 </div>\n",
    "\n",
    "## <div style=\"text-align: left\"> Estudiantes: </div> <br> <div style=\"text-align:center\"> Agüero Sandí Johnny - 2020027766 </div>\n",
    "    \n",
    "## <div style=\"text-align: left\"> Profesor: </div> <br> <div style=\"text-align: center\"> Jason Leiton Jimenez <br><br> </div>\n",
    "\n",
    "## <div style=\"text-align: center\"> Grupo 1 </div>\n",
    "\n",
    "## <div style=\"text-align: center\"> IS $-$ 2023 </div>"
   ]
  },
  {
   "cell_type": "markdown",
   "id": "e51f8530",
   "metadata": {},
   "source": [
    "### Para esta sección se trabajará con el set de datos de diabetes de sklearn, el cual puede obtenerse con el método “load diabetes”. Para establecer la etiqueta se deberá elegir el valor de frontera de 150, es decir, si el target es mayor a 150 se considerará que tiene diabetes, de lo contrario no padece de diabetes."
   ]
  },
  {
   "cell_type": "code",
   "execution_count": null,
   "id": "9961c73f",
   "metadata": {},
   "outputs": [],
   "source": []
  },
  {
   "cell_type": "markdown",
   "id": "49896e14",
   "metadata": {},
   "source": [
    "# Primera parte"
   ]
  },
  {
   "cell_type": "markdown",
   "id": "7363b044",
   "metadata": {},
   "source": [
    "### 1) Realice una red fullyconnected, con 4 capas ocultas, cuyos tamaños son: 10,32,16,4. A estas capas se le deben de conectar la entrada y la salida. Para este punto, no se permite el uso de bibliotecas como sklearn o keras (o cualquier otra que implementen el modelo). Cabe destacar que la red debe de considerar el parámetro b (bias), así como el parámetro de la ReLu (prelu). Se requiere que la función de activación entre las capas ocultas sea prelu."
   ]
  },
  {
   "cell_type": "markdown",
   "id": "421f8fb8",
   "metadata": {},
   "source": [
    "### 2) Realice todo el proceso de feature engineering antes de entrenar la red. Obtenga el 80 % de los datos para entrenamiento."
   ]
  },
  {
   "cell_type": "markdown",
   "id": "3da05520",
   "metadata": {},
   "source": [
    "### 3) btenga los mejores parámetros (al menos el learning rate y epochs) para el modelo creado, utilizando alguna herramienta como gridsearch u optuna."
   ]
  },
  {
   "cell_type": "markdown",
   "id": "06e80ae7",
   "metadata": {},
   "source": [
    "### 4) Realice el entrenamiento del modelo, de tal manera que se imprima el loss por cada epoch."
   ]
  },
  {
   "cell_type": "markdown",
   "id": "69db0887",
   "metadata": {},
   "source": [
    "### 5) Obtenga el accuracy y F1 final, así como el tiempo de ejecución."
   ]
  },
  {
   "cell_type": "code",
   "execution_count": null,
   "id": "5d871845",
   "metadata": {},
   "outputs": [],
   "source": []
  }
 ],
 "metadata": {
  "kernelspec": {
   "display_name": "Python 3 (ipykernel)",
   "language": "python",
   "name": "python3"
  },
  "language_info": {
   "codemirror_mode": {
    "name": "ipython",
    "version": 3
   },
   "file_extension": ".py",
   "mimetype": "text/x-python",
   "name": "python",
   "nbconvert_exporter": "python",
   "pygments_lexer": "ipython3",
   "version": "3.10.11"
  }
 },
 "nbformat": 4,
 "nbformat_minor": 5
}
