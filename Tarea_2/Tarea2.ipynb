{
 "cells": [
  {
   "cell_type": "markdown",
   "metadata": {},
   "source": [
    "## <div style=\"text-align: center\"> Área académica de Ingeniería en Computadores </div> \n",
    "\n",
    "## <div style=\"text-align: center\"> CE - 5506 Introducción al Reconocimiento de Patrones </div>\n",
    "\n",
    "## <div style=\"text-align: center\"> Tarea #2 </div>\n",
    "\n",
    "## <div style=\"text-align: left\"> Estudiantes: </div> <br> <div style=\"text-align:center\"> Cambronero Ureña Aldo - 2018099813 <br> Agüero Sandí Johnny - 2020027766 </div>\n",
    "    \n",
    "## <div style=\"text-align: left\"> Profesor: </div> <br> <div style=\"text-align: center\"> Jason Leiton Jimenez <br><br> </div>\n",
    "\n",
    "## <div style=\"text-align: center\"> Grupo 1 </div>\n",
    "\n",
    "## <div style=\"text-align: center\"> IS $-$ 2023 </div>"
   ]
  },
  {
   "cell_type": "markdown",
   "metadata": {},
   "source": [
    "---"
   ]
  },
  {
   "cell_type": "markdown",
   "metadata": {},
   "source": [
    "## <div style=\"text-align: center\"> Primera Parte </div> "
   ]
  },
  {
   "cell_type": "markdown",
   "metadata": {},
   "source": [
    "### 1. Analice el código de regresión lineal visto en clase, el cual se encuentra en tecdigital con el nombre “RegresionLineal.ipynb”"
   ]
  },
  {
   "cell_type": "code",
   "execution_count": 2,
   "metadata": {},
   "outputs": [],
   "source": [
    "import numpy as np\n",
    "import matplotlib.pyplot as plt\n",
    "import pandas as pd\n",
    "import time"
   ]
  },
  {
   "cell_type": "code",
   "execution_count": 3,
   "metadata": {},
   "outputs": [],
   "source": [
    "class LinearRegression:\n",
    "    \n",
    "    def __init__(self, n_features):\n",
    "        self.W = np.random.normal(-1,1,(n_features,1)) #weights\n",
    "        self.b = np.random.rand(1) #intercept\n",
    "        \n",
    "    def descent(self, delta_W, delta_b, learning_rate):\n",
    "        #updating the weights with the calculated gradients\n",
    "        self.W -= learning_rate*delta_W                                                                  \n",
    "        self.b -= learning_rate*delta_b \n",
    "        \n",
    "    def derivatives(self, X, Y):\n",
    "        #partial derivative of cost w.r.t the weights\n",
    "        delta_W = np.sum(np.multiply(((np.matmul(X,self.W)+self.b)-Y), X))*2/X.shape[0] \n",
    "        #partial derivative of cost w.r.t the intercept\n",
    "        delta_b = np.sum(((np.matmul(X,self.W)+self.b)-Y))*2/X.shape[0]                \n",
    "        return delta_W, delta_b\n",
    "    \n",
    "    #fit\n",
    "    def train(self, X, Y, epochs=50, learning_rate=0.1):\n",
    "        X = np.array(X).reshape(-1,1)\n",
    "        Y = np.array(Y).reshape(-1,1)\n",
    "        for i in range(epochs):\n",
    "            delta_W, delta_b = self.derivatives(X, Y)\n",
    "            self.descent(delta_W, delta_b, learning_rate)\n",
    "        return self.W, self.b\n",
    "    def predict(self, X):\n",
    "        #print(X.shape, X.reshape(-1,1).shape)\n",
    "        product = np.matmul(np.array(X).reshape(-1,1),self.W)+self.b\n",
    "        return product"
   ]
  },
  {
   "cell_type": "markdown",
   "metadata": {},
   "source": [
    "### 2. Busque un set de datos básico (no imágenes) libre y carguelo. Posteriormente muestre un los primeros 10 datos con sus etiquetas."
   ]
  },
  {
   "cell_type": "code",
   "execution_count": 5,
   "metadata": {},
   "outputs": [
    {
     "data": {
      "text/plain": [
       "(1338, 7)"
      ]
     },
     "execution_count": 5,
     "metadata": {},
     "output_type": "execute_result"
    }
   ],
   "source": [
    "df = pd.read_csv(\"https://raw.githubusercontent.com/aasthac67/Insurance_Charges_Prediction/main/insurance.csv\")\n",
    "df.head(10)\n",
    "df.shape"
   ]
  },
  {
   "cell_type": "markdown",
   "metadata": {},
   "source": [
    "### 3. Realice el proceso de feature engeneering."
   ]
  },
  {
   "cell_type": "code",
   "execution_count": 10,
   "metadata": {},
   "outputs": [
    {
     "data": {
      "text/plain": [
       "((1338,), (1338,))"
      ]
     },
     "execution_count": 10,
     "metadata": {},
     "output_type": "execute_result"
    }
   ],
   "source": [
    "x = (df['age']-df['age'].mean())/df['age'].std() #standardization of the dataset\n",
    "y = (df[\"charges\"]-df['charges'].mean())/df[\"charges\"].std()\n",
    "x.shape, y.shape"
   ]
  },
  {
   "cell_type": "markdown",
   "metadata": {},
   "source": [
    "### 4. Modifique el código proporcionado para que el modelo genere la regresión lineal sobre el set de datos elegido."
   ]
  },
  {
   "cell_type": "code",
   "execution_count": 11,
   "metadata": {},
   "outputs": [],
   "source": [
    "reg = LinearRegression(n_features=1)"
   ]
  },
  {
   "cell_type": "code",
   "execution_count": 13,
   "metadata": {},
   "outputs": [
    {
     "name": "stdout",
     "output_type": "stream",
     "text": [
      "[0.29900819] -3.001494209040064e-17\n"
     ]
    },
    {
     "data": {
      "text/plain": [
       "[<matplotlib.lines.Line2D at 0x7f3dfe601c90>]"
      ]
     },
     "execution_count": 13,
     "metadata": {},
     "output_type": "execute_result"
    },
    {
     "data": {
      "image/png": "[encoded data removed]",
      "text/plain": [
       "<Figure size 640x480 with 1 Axes>"
      ]
     },
     "metadata": {},
     "output_type": "display_data"
    }
   ],
   "source": [
    "params = reg.train(x, y, epochs=500, learning_rate=0.3)\n",
    "print(params[0][-1], params[1][-1])\n",
    "plt.scatter(x[:180], y[:180], color='red')\n",
    "pred = reg.predict(np.array(x[:180]))\n",
    "plt.plot(x[:180], pred[:180])"
   ]
  },
  {
   "cell_type": "markdown",
   "metadata": {},
   "source": [
    "## <div style=\"text-align: center\"> Segunda Parte </div> "
   ]
  },
  {
   "cell_type": "markdown",
   "metadata": {},
   "source": [
    "### 1. Tome el código modificado y genere el mismo código sin utilizar bibliotecas de procesamiento matemático para las operaciones matriciales, es decir, debe hacerlo con solo listas."
   ]
  },
  {
   "cell_type": "code",
   "execution_count": null,
   "metadata": {},
   "outputs": [],
   "source": [
    "import random\n",
    "import math\n",
    "\n",
    "class Matrix:\n",
    "    def __init__(self, matrix):\n",
    "        self.matrix = matrix\n",
    "    \n",
    "    @staticmethod\n",
    "    def from_shape(rows, columns):\n",
    "        matrix = []\n",
    "        for i in range(rows):\n",
    "            row = []\n",
    "            for j in range(columns):\n",
    "                row.append(0)\n",
    "            matrix.append(row)\n",
    "        return Matrix(matrix)\n",
    "    \n",
    "    @staticmethod\n",
    "    def random_normal(rows, columns, mu=0, sigma=1):\n",
    "        matrix = Matrix.from_shape(rows, columns)\n",
    "        for i in range(rows):\n",
    "            for j in range(columns):\n",
    "                x = random.uniform(0, 1)\n",
    "                y = random.uniform(0, 1)\n",
    "                z = math.sqrt(-2 * math.log(x)) * math.cos(2 * math.pi * y)\n",
    "                matrix.matrix[i][j] = mu + sigma * z\n",
    "        return matrix\n",
    "    \n",
    "    @staticmethod\n",
    "    def random_uniform(rows, columns):\n",
    "        matrix = Matrix.from_shape(rows, columns)\n",
    "        for i in range(rows):\n",
    "            for j in range(columns):\n",
    "                matrix.matrix[i][j] = random.uniform(0, 1)\n",
    "        return matrix\n",
    "    \n",
    "    def add(self, other_matrix):\n",
    "        if len(self.matrix) != len(other_matrix.matrix) or len(self.matrix[0]) != len(other_matrix.matrix[0]):\n",
    "            raise ValueError(\"The matrices have different dimensions\")\n",
    "        \n",
    "        result = []\n",
    "        for i in range(len(self.matrix)):\n",
    "            row = []\n",
    "            for j in range(len(self.matrix[0])):\n",
    "                row.append(self.matrix[i][j] + other_matrix.matrix[i][j])\n",
    "            result.append(row)\n",
    "        return Matrix(result)\n",
    "    \n",
    "    def subtract(self, other_matrix):\n",
    "        if len(self.matrix) != len(other_matrix.matrix) or len(self.matrix[0]) != len(other_matrix.matrix[0]):\n",
    "            raise ValueError(\"The matrices have different dimensions\")\n",
    "        \n",
    "        result = []\n",
    "        for i in range(len(self.matrix)):\n",
    "            row = []\n",
    "            for j in range(len(self.matrix[0])):\n",
    "                row.append(self.matrix[i][j] - other_matrix.matrix[i][j])\n",
    "            result.append(row)\n",
    "        return Matrix(result)\n",
    "    \n",
    "    def scalar_product(self, scalar):\n",
    "        result = []\n",
    "        for i in range(len(self.matrix)):\n",
    "            row = []\n",
    "            for j in range(len(self.matrix[0])):\n",
    "                row.append(self.matrix[i][j] * scalar)\n",
    "            result.append(row)\n",
    "        return Matrix(result)\n",
    "    \n",
    "    def dot_product(self, other_matrix):\n",
    "        if len(self.matrix[0]) != len(other_matrix.matrix):\n",
    "            raise ValueError(\"The number of columns in the first matrix must be equal to the number of rows in the second matrix\")\n",
    "        \n",
    "        result = []\n",
    "        for i in range(len(self.matrix)):\n",
    "            row = []\n",
    "            for j in range(len(other_matrix.matrix[0])):\n",
    "                dot_product = 0\n",
    "                for k in range(len(self.matrix[0])):\n",
    "                    dot_product += self.matrix[i][k] * other_matrix.matrix[k][j]\n",
    "                row.append(dot_product)\n",
    "            result.append(row)\n",
    "        return Matrix(result)\n",
    "    \n",
    "    def reshape(self, rows, columns):\n",
    "        if len(self.matrix) * len(self.matrix[0]) != rows * columns:\n",
    "            raise ValueError(\"The total number of elements in the new shape must be equal to the total number of elements in the original matrix\")\n",
    "        \n",
    "        flat_matrix = []\n",
    "        for i in range(len(self.matrix)):\n",
    "            for j in range(len(self.matrix[0])):\n",
    "                flat_matrix.append(self.matrix[i][j])\n",
    "        \n",
    "        new_matrix = Matrix.from_shape(rows, columns)\n",
    "        for i in range(rows):\n",
    "            for j in range(columns):\n",
    "                index = i * columns + j\n",
    "                new_matrix.matrix[i][j] = flat_matrix[index]\n",
    "        \n",
    "        return new_matrix"
   ]
  },
  {
   "cell_type": "code",
   "execution_count": 1,
   "metadata": {},
   "outputs": [],
   "source": [
    "class Linear_Regression_:\n",
    "    \n",
    "    def __init__(self, n_features):\n",
    "        self.W = np.random.normal(-1,1,(n_features,1)) #weights\n",
    "        self.b = np.random.rand(1) #intercept\n",
    "        \n",
    "    def descent(self, delta_W, delta_b, learning_rate):\n",
    "        #updating the weights with the calculated gradients\n",
    "        self.W -= learning_rate*delta_W                                                                  \n",
    "        self.b -= learning_rate*delta_b \n",
    "        \n",
    "    def derivatives(self, X, Y):\n",
    "        #partial derivative of cost w.r.t the weights\n",
    "        delta_W = np.sum(np.multiply(((np.matmul(X,self.W)+self.b)-Y), X))*2/X.shape[0] \n",
    "        #partial derivative of cost w.r.t the intercept\n",
    "        delta_b = np.sum(((np.matmul(X,self.W)+self.b)-Y))*2/X.shape[0]                \n",
    "        return delta_W, delta_b\n",
    "    \n",
    "    #fit\n",
    "    def train(self, X, Y, epochs=50, learning_rate=0.1):\n",
    "        X = np.array(X).reshape(-1,1)\n",
    "        Y = np.array(Y).reshape(-1,1)\n",
    "        for i in range(epochs):\n",
    "            delta_W, delta_b = self.derivatives(X, Y)\n",
    "            self.descent(delta_W, delta_b, learning_rate)\n",
    "        return self.W, self.b\n",
    "    def predict(self, X):\n",
    "        #print(X.shape, X.reshape(-1,1).shape)\n",
    "        product = np.matmul(np.array(X).reshape(-1,1),self.W)+self.b\n",
    "        return product"
   ]
  },
  {
   "cell_type": "markdown",
   "metadata": {},
   "source": [
    "### 2. Ahora realice el código de la primera parte utilizando únicamente Pytorch (tensores)."
   ]
  },
  {
   "cell_type": "code",
   "execution_count": null,
   "metadata": {},
   "outputs": [],
   "source": [
    "import torch\n",
    "\n",
    "class Linear_Regression:\n",
    "    def __init__(self, n_features):\n",
    "    self.W = torch.randn(n_features, 1, requires_grad=True) #weights\n",
    "    self.b = torch.randn(1, requires_grad=True) #intercept\n",
    "    \n",
    "    def descent(self, delta_W, delta_b, learning_rate):\n",
    "        #updating the weights with the calculated gradients\n",
    "        self.W.data -= learning_rate*delta_W.data                                                                  \n",
    "        self.b.data -= learning_rate*delta_b.data \n",
    "\n",
    "    def derivatives(self, X, Y):\n",
    "        #partial derivative of cost w.r.t the weights\n",
    "        delta_W = torch.sum(torch.mul(((torch.matmul(X,self.W)+self.b)-Y), X))*2/X.shape[0] \n",
    "        #partial derivative of cost w.r.t the intercept\n",
    "        delta_b = torch.sum(((torch.matmul(X,self.W)+self.b)-Y))*2/X.shape[0]                \n",
    "        return delta_W, delta_b\n",
    "\n",
    "    #fit\n",
    "    def train(self, X, Y, epochs=50, learning_rate=0.1):\n",
    "        X = torch.tensor(X, dtype=torch.float32).reshape(-1,1)\n",
    "        Y = torch.tensor(Y, dtype=torch.float32).reshape(-1,1)\n",
    "        for i in range(epochs):\n",
    "            delta_W, delta_b = self.derivatives(X, Y)\n",
    "            self.descent(delta_W, delta_b, learning_rate)\n",
    "        return self.W.data, self.b.data\n",
    "\n",
    "    def predict(self, X):\n",
    "        product = torch.matmul(torch.tensor(X, dtype=torch.float32).reshape(-1,1),self.W)+self.b\n",
    "        return product.data"
   ]
  },
  {
   "cell_type": "markdown",
   "metadata": {},
   "source": [
    "### 3. Ejecute ambos códigos y haga comparaciones en los tiempos de ejecución (Realice este paso con el set de datos elegido, con uno creado por cada grupo y con el mostrado en clase de altura y pesos).\n"
   ]
  },
  {
   "cell_type": "code",
   "execution_count": null,
   "metadata": {},
   "outputs": [],
   "source": []
  }
 ],
 "metadata": {
  "kernelspec": {
   "display_name": "Python 3 (ipykernel)",
   "language": "python",
   "name": "python3"
  },
  "language_info": {
   "codemirror_mode": {
    "name": "ipython",
    "version": 3
   },
   "file_extension": ".py",
   "mimetype": "text/x-python",
   "name": "python",
   "nbconvert_exporter": "python",
   "pygments_lexer": "ipython3",
   "version": "3.11.2"
  }
 },
 "nbformat": 4,
 "nbformat_minor": 2
}
