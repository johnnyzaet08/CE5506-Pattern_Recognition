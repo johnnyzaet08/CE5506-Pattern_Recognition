{
 "cells": [
  {
   "cell_type": "code",
   "execution_count": 1,
   "id": "27748408",
   "metadata": {},
   "outputs": [],
   "source": [
    "import cv2\n",
    "import os"
   ]
  },
  {
   "cell_type": "code",
   "execution_count": 20,
   "id": "72ee4abe",
   "metadata": {},
   "outputs": [],
   "source": [
    "def apply_bilateral_filter(image_path, output_folder):\n",
    "    # Carga la imagen\n",
    "    image = cv2.imread(image_path)\n",
    "    \n",
    "    # Aplica el filtro bilateral\n",
    "    filtered_image = cv2.bilateralFilter(image, 9, 75, 75)\n",
    "    \n",
    "    # Guarda la imagen filtrada\n",
    "    filename = os.path.basename(image_path)\n",
    "    output_path = os.path.join(output_folder, filename)\n",
    "    cv2.imwrite(output_path, filtered_image)"
   ]
  },
  {
   "cell_type": "code",
   "execution_count": 21,
   "id": "39fad30b",
   "metadata": {},
   "outputs": [],
   "source": [
    "def process_images_in_folder(folder_path):\n",
    "    # Verifica si la carpeta de salida existe, si no, la crea\n",
    "    output_folder = folder_path + '_FB'\n",
    "    if not os.path.exists(output_folder):\n",
    "        os.makedirs(output_folder)\n",
    "    \n",
    "    # Obtiene la lista de archivos en la carpeta\n",
    "    file_list = os.listdir(folder_path)\n",
    "    \n",
    "    # Procesa cada archivo en la carpeta\n",
    "    for file_name in file_list:\n",
    "        # Verifica si el archivo es una imagen (extensión válida)\n",
    "        if file_name.lower().endswith(('.png', '.jpg', '.jpeg')):\n",
    "            # Obtiene la ruta completa del archivo\n",
    "            image_path = os.path.join(folder_path, file_name)\n",
    "            \n",
    "            # Aplica el filtro bilateral a la imagen\n",
    "            apply_bilateral_filter(image_path, output_folder)"
   ]
  },
  {
   "cell_type": "code",
   "execution_count": 22,
   "id": "c64d3907",
   "metadata": {},
   "outputs": [],
   "source": [
    "dirlist = [\n",
    "    '../DataSetPatrones/COVID',\n",
    "    '../DataSetPatrones/Lung_Opacity',\n",
    "    '../DataSetPatrones/Normal',\n",
    "    '../DataSetPatrones/Pneumonia'\n",
    "]"
   ]
  },
  {
   "cell_type": "code",
   "execution_count": 23,
   "id": "91258459",
   "metadata": {},
   "outputs": [],
   "source": [
    "for path in dirlist:\n",
    "    process_images_in_folder(path)"
   ]
  }
 ],
 "metadata": {
  "kernelspec": {
   "display_name": "Python 3 (ipykernel)",
   "language": "python",
   "name": "python3"
  },
  "language_info": {
   "codemirror_mode": {
    "name": "ipython",
    "version": 3
   },
   "file_extension": ".py",
   "mimetype": "text/x-python",
   "name": "python",
   "nbconvert_exporter": "python",
   "pygments_lexer": "ipython3",
   "version": "3.10.11"
  }
 },
 "nbformat": 4,
 "nbformat_minor": 5
}
